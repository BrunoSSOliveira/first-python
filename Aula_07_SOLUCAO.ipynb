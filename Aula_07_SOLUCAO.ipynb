{
 "cells": [
  {
   "cell_type": "markdown",
   "metadata": {},
   "source": [
    "# Lista de Exercício para serem resolvidos em AULA\n",
    "##     Atividade 07 - 01/10/2020"
   ]
  },
  {
   "cell_type": "raw",
   "metadata": {},
   "source": [
    "Interpolação de Strings\n",
    "•\t%s: string;\n",
    "•\t%d: inteiro;\n",
    "•\t%o: octal;\n",
    "•\t%x: hexacimal;\n",
    "•\t%f: real;\n",
    "•\t%e: real exponencial;\n",
    "•\t%%: sinal de percentagem. "
   ]
  },
  {
   "cell_type": "markdown",
   "metadata": {},
   "source": [
    "1.\tSolicite ao usuário uma string qualquer e retorne o tamanho (quantidade de caracteres) do texto digitado. "
   ]
  },
  {
   "cell_type": "code",
   "execution_count": 14,
   "metadata": {},
   "outputs": [
    {
     "name": "stdout",
     "output_type": "stream",
     "text": [
      "O tamanho do texto Hello World! é de 12 caracteres\n"
     ]
    }
   ],
   "source": [
    "texto = \"Hello World!\"\n",
    "print(\"O tamanho do texto %s é de %d caracteres\" %(texto, len(texto)))"
   ]
  },
  {
   "cell_type": "code",
   "execution_count": 13,
   "metadata": {},
   "outputs": [
    {
     "name": "stdout",
     "output_type": "stream",
     "text": [
      "O tamanho do texto 12  caracteres\n"
     ]
    }
   ],
   "source": [
    "texto = \"Hello World!\"\n",
    "print('O tamanho do texto', len(texto),' caracteres')"
   ]
  },
  {
   "cell_type": "markdown",
   "metadata": {},
   "source": [
    "2. Solicite ao usuário para informar a hora e os minutos, na saída se os valores informados não tiverem dois digitos, exibi-los com dois dígitos"
   ]
  },
  {
   "cell_type": "code",
   "execution_count": 23,
   "metadata": {},
   "outputs": [
    {
     "name": "stdout",
     "output_type": "stream",
     "text": [
      "Informe a hora: 3\n",
      "Informe os minutos: 46\n",
      "A hora é 03 horas e 46 minutos\n"
     ]
    }
   ],
   "source": [
    "h = int(input(\"Informe a hora: \"))\n",
    "m = int(input(\"Informe os minutos: \"))\n",
    "print ('A hora é %02d horas e %02d minutos' %(h, m))"
   ]
  },
  {
   "cell_type": "markdown",
   "metadata": {},
   "source": [
    "3. Imprimir somente o terceiro caractere de uma palavra que o usuário digitar"
   ]
  },
  {
   "cell_type": "code",
   "execution_count": 25,
   "metadata": {},
   "outputs": [
    {
     "name": "stdout",
     "output_type": "stream",
     "text": [
      "t\n"
     ]
    }
   ],
   "source": [
    "texto = \"Python\"\n",
    "# P Y T H O N\n",
    "# 0 1 2 3 4 5\n",
    "print(texto[2])"
   ]
  },
  {
   "cell_type": "code",
   "execution_count": 26,
   "metadata": {},
   "outputs": [
    {
     "name": "stdout",
     "output_type": "stream",
     "text": [
      "Digite uma palavra qualquer: Eduardo\n",
      "u\n"
     ]
    }
   ],
   "source": [
    "texto = input(\"Digite uma palavra qualquer: \")\n",
    "# P Y T H O N\n",
    "# 0 1 2 3 4 5\n",
    "print(texto[2])"
   ]
  },
  {
   "cell_type": "code",
   "execution_count": 28,
   "metadata": {},
   "outputs": [
    {
     "name": "stdout",
     "output_type": "stream",
     "text": [
      "Digite uma palavra qualquer: Eduardo\n",
      "E\n",
      "d\n",
      "u\n"
     ]
    }
   ],
   "source": [
    "texto = input(\"Digite uma palavra qualquer: \")\n",
    "for i in range(0,3):\n",
    "    print(texto[i])"
   ]
  },
  {
   "cell_type": "markdown",
   "metadata": {},
   "source": [
    "4. Imprimir o mesmo texto somente até o terceiro caractere"
   ]
  },
  {
   "cell_type": "code",
   "execution_count": 33,
   "metadata": {},
   "outputs": [
    {
     "name": "stdout",
     "output_type": "stream",
     "text": [
      "Digite algo: Victor\n",
      "ic\n"
     ]
    }
   ],
   "source": [
    "texto = input(\"Digite algo: \")\n",
    "print(texto[:3])"
   ]
  },
  {
   "cell_type": "markdown",
   "metadata": {},
   "source": [
    "5. Imprimir o mesmo texto a partir do terceiro caractere"
   ]
  },
  {
   "cell_type": "code",
   "execution_count": 37,
   "metadata": {},
   "outputs": [
    {
     "name": "stdout",
     "output_type": "stream",
     "text": [
      "Digite algo: Cinthia\n",
      "nthia\n"
     ]
    }
   ],
   "source": [
    "texto = input(\"Digite algo: \")\n",
    "print(texto[2:])"
   ]
  },
  {
   "cell_type": "markdown",
   "metadata": {},
   "source": [
    "6. Solicite ao usuário um texto e exiba em ordem invertida"
   ]
  },
  {
   "cell_type": "code",
   "execution_count": 38,
   "metadata": {},
   "outputs": [
    {
     "name": "stdout",
     "output_type": "stream",
     "text": [
      "Digite algo: Joao Henrique\n",
      "euqirneH oaoJ\n"
     ]
    }
   ],
   "source": [
    "texto = input(\"Digite algo: \")\n",
    "print(texto[::-1])"
   ]
  },
  {
   "cell_type": "markdown",
   "metadata": {},
   "source": [
    "7. Solicite ao usuário números e os armazene em um vetor de N posições. Crie uma função que imprima o vetor preenchido."
   ]
  },
  {
   "cell_type": "code",
   "execution_count": 40,
   "metadata": {},
   "outputs": [
    {
     "name": "stdout",
     "output_type": "stream",
     "text": [
      "Informe o tamanho do vetor3\n",
      "Digite um valor: 3\n",
      "Digite um valor: 7\n",
      "Digite um valor: 1\n",
      "[3, 7, 1]\n"
     ]
    }
   ],
   "source": [
    "tam = int(input(\"Informe o tamanho do vetor\"))\n",
    "\n",
    "vet = [0] * tam\n",
    "\n",
    "for i in range(0,tam):\n",
    "    vet[i] = int(input(\"Digite um valor: \"))\n",
    "\n",
    "print(vet)"
   ]
  },
  {
   "cell_type": "code",
   "execution_count": 64,
   "metadata": {},
   "outputs": [
    {
     "name": "stdout",
     "output_type": "stream",
     "text": [
      "Informe o tamanho do vetor: 5\n",
      "Digite um valor: 6\n",
      "Digite um valor: 7\n",
      "Digite um valor: 8\n",
      "Digite um valor: 4\n",
      "Digite um valor: 3\n",
      "28\n"
     ]
    }
   ],
   "source": [
    "\n",
    "def altera(v,tam):\n",
    "    global soma \n",
    "    soma = 0\n",
    "    for i in range(0, tam): \n",
    "        soma = soma + v[i]\n",
    "    return soma\n",
    "\n",
    "\n",
    "tam = int(input(\"Informe o tamanho do vetor: \"))\n",
    "\n",
    "v = [0] * tam\n",
    "\n",
    "for i in range(0,tam):\n",
    "    v[i] = int(input(\"Digite um valor: \"))\n",
    "altera(v,tam)\n",
    "print(soma)\n",
    "\n"
   ]
  },
  {
   "cell_type": "markdown",
   "metadata": {},
   "source": [
    "### Lista de Exercício para ENTREGA\n",
    "### Atividade 06\n",
    "### DATA DE ENTREGA: 07/10/2020, até às 23h59min\n",
    "\n",
    "#### Exercícios 8, 9 e 10 são para entrega!\n",
    "\n",
    "Entrega individual!\n",
    "\n",
    "Endereço: http://bit.ly/IPE_Atividade06_01-10-2020\n",
    "\n"
   ]
  },
  {
   "cell_type": "markdown",
   "metadata": {},
   "source": [
    "8. Elabore um programa que entre com uma frase e uma letra para contar, em seguida calcule e mostre quantas vezes a letra aparece na frase"
   ]
  },
  {
   "cell_type": "code",
   "execution_count": null,
   "metadata": {},
   "outputs": [],
   "source": []
  },
  {
   "cell_type": "markdown",
   "metadata": {},
   "source": [
    "9.\tElabore um programa para entrar com uma frase ou palavra e uma letra, em seguida verifique se a frase ou palavra tem a letra informada. Obs: Não utilize estrutura de repetição."
   ]
  },
  {
   "cell_type": "code",
   "execution_count": null,
   "metadata": {},
   "outputs": [],
   "source": []
  },
  {
   "cell_type": "markdown",
   "metadata": {},
   "source": [
    "10. Solicite ao usuário números e os armazene em um vetor de N posições. Crie uma função que recebe o vetor preenchido e substitua todas as ocorrências de valores negativos por zero, ao final exiba os valores desse vetor."
   ]
  },
  {
   "cell_type": "code",
   "execution_count": null,
   "metadata": {},
   "outputs": [],
   "source": []
  },
  {
   "cell_type": "markdown",
   "metadata": {},
   "source": [
    "##### Faça o download do seu arquivo IPYNB, e envie no link abaixo. \n",
    "\n",
    "Endereço: http://bit.ly/IPE_Atividade06_01-10-2020\n",
    "\n",
    "Entrega até 07/10/2020, até as 23h59min\n",
    "\n",
    "Faça o download do seu arquivo IPYNB, e envie no link acima. \n",
    "\n",
    "Salve com o seguinte padrão NOMECOMPLETO_RA e envie no link acima.\n"
   ]
  },
  {
   "cell_type": "code",
   "execution_count": null,
   "metadata": {},
   "outputs": [],
   "source": []
  }
 ],
 "metadata": {
  "kernelspec": {
   "display_name": "Python 3",
   "language": "python",
   "name": "python3"
  },
  "language_info": {
   "codemirror_mode": {
    "name": "ipython",
    "version": 3
   },
   "file_extension": ".py",
   "mimetype": "text/x-python",
   "name": "python",
   "nbconvert_exporter": "python",
   "pygments_lexer": "ipython3",
   "version": "3.8.3"
  }
 },
 "nbformat": 4,
 "nbformat_minor": 4
}
