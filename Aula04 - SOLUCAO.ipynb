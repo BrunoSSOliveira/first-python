{
 "cells": [
  {
   "cell_type": "markdown",
   "metadata": {},
   "source": [
    "# Lista de Exercício para serem resolvidos em AULA 04\n",
    "##     Atividade 03 – 10/09/2020\n"
   ]
  },
  {
   "cell_type": "markdown",
   "metadata": {},
   "source": [
    "1.\tEscreva um algoritmo para imprimir os números de 1 (inclusive) a 10 (inclusive) em ordem crescente."
   ]
  },
  {
   "cell_type": "code",
   "execution_count": 1,
   "metadata": {},
   "outputs": [
    {
     "name": "stdout",
     "output_type": "stream",
     "text": [
      "1\n",
      "2\n",
      "3\n",
      "4\n",
      "5\n",
      "6\n",
      "7\n",
      "8\n",
      "9\n",
      "10\n"
     ]
    }
   ],
   "source": [
    "for x in range(1,11):\n",
    "    print(x)"
   ]
  },
  {
   "cell_type": "code",
   "execution_count": 61,
   "metadata": {},
   "outputs": [
    {
     "name": "stdout",
     "output_type": "stream",
     "text": [
      "1\n",
      "2\n",
      "3\n",
      "4\n",
      "5\n",
      "6\n",
      "7\n",
      "8\n",
      "9\n",
      "10\n"
     ]
    }
   ],
   "source": [
    "x = 1\n",
    "while(x < 11):\n",
    "    print(x)\n",
    "    x +=1"
   ]
  },
  {
   "cell_type": "code",
   "execution_count": 4,
   "metadata": {},
   "outputs": [
    {
     "name": "stdout",
     "output_type": "stream",
     "text": [
      "1\n",
      "3\n",
      "5\n",
      "7\n",
      "9\n"
     ]
    }
   ],
   "source": [
    "for x in range(1,11,2):\n",
    "    print(x)"
   ]
  },
  {
   "cell_type": "code",
   "execution_count": 62,
   "metadata": {},
   "outputs": [
    {
     "name": "stdout",
     "output_type": "stream",
     "text": [
      "1\n",
      "3\n",
      "5\n",
      "7\n",
      "9\n"
     ]
    }
   ],
   "source": [
    "x = 1\n",
    "while(x < 11):\n",
    "    print(x)\n",
    "    x +=2"
   ]
  },
  {
   "cell_type": "code",
   "execution_count": 5,
   "metadata": {},
   "outputs": [
    {
     "name": "stdout",
     "output_type": "stream",
     "text": [
      "0\n",
      "2\n",
      "4\n",
      "6\n",
      "8\n",
      "10\n"
     ]
    }
   ],
   "source": [
    "for x in range(0,11,2):\n",
    "    print(x)"
   ]
  },
  {
   "cell_type": "code",
   "execution_count": 63,
   "metadata": {},
   "outputs": [
    {
     "name": "stdout",
     "output_type": "stream",
     "text": [
      "0\n",
      "2\n",
      "4\n",
      "6\n",
      "8\n",
      "10\n"
     ]
    }
   ],
   "source": [
    "x = 0\n",
    "while(x < 11):\n",
    "    print(x)\n",
    "    x +=2"
   ]
  },
  {
   "cell_type": "markdown",
   "metadata": {},
   "source": [
    "2.\tEscreva um algoritmo para imprimir os números de 1 (inclusive) a 10 (inclusive) em ordem decrescente."
   ]
  },
  {
   "cell_type": "code",
   "execution_count": 15,
   "metadata": {},
   "outputs": [
    {
     "name": "stdout",
     "output_type": "stream",
     "text": [
      "10\n",
      "9\n",
      "8\n",
      "7\n",
      "6\n",
      "5\n",
      "4\n",
      "3\n",
      "2\n"
     ]
    }
   ],
   "source": [
    "for x in range(10,1,-1):\n",
    "    print(x)"
   ]
  },
  {
   "cell_type": "code",
   "execution_count": 64,
   "metadata": {},
   "outputs": [
    {
     "name": "stdout",
     "output_type": "stream",
     "text": [
      "11\n",
      "10\n",
      "9\n",
      "8\n",
      "7\n",
      "6\n",
      "5\n",
      "4\n",
      "3\n",
      "2\n",
      "1\n"
     ]
    }
   ],
   "source": [
    "x = 11\n",
    "while(x > 0):\n",
    "    print(x)\n",
    "    x -=1"
   ]
  },
  {
   "cell_type": "markdown",
   "metadata": {},
   "source": [
    "3.\tLer um valor N e imprimir todos os valores inteiros entre 1 (inclusive) e N (inclusive). Considere que o N será sempre maior que ZERO."
   ]
  },
  {
   "cell_type": "code",
   "execution_count": 36,
   "metadata": {},
   "outputs": [
    {
     "name": "stdout",
     "output_type": "stream",
     "text": [
      "Digite um valor qualquer: 13\n",
      "1 2 3 4 5 6 7 8 9 10 11 12 13 "
     ]
    }
   ],
   "source": [
    "n = int(input(\"Digite um valor qualquer: \"))\n",
    "while n <= 0 :\n",
    "    n = int(input(\"Digite um valor qualquer: \"))\n",
    "    \n",
    "for i in range(1,n+1):\n",
    "    print(i, end=\" \")"
   ]
  },
  {
   "cell_type": "code",
   "execution_count": 38,
   "metadata": {},
   "outputs": [
    {
     "name": "stdout",
     "output_type": "stream",
     "text": [
      "Digite um valor qualquer: 15\n",
      "1 2 3 4 5 6 7 8 9 10 11 12 13 14 15\n"
     ]
    }
   ],
   "source": [
    "n = int(input(\"Digite um valor qualquer: \"))\n",
    "while n <= 0 :\n",
    "    n = int(input(\"Digite um valor qualquer: \"))\n",
    "    \n",
    "a = \" \" . join(str(i) for i in range(1,n+1))\n",
    "print(a)"
   ]
  },
  {
   "cell_type": "markdown",
   "metadata": {},
   "source": [
    "4.\tEscreva um algoritmo para ler 10 números e ao final da leitura escrever a soma total dos 10 números lidos."
   ]
  },
  {
   "cell_type": "code",
   "execution_count": 45,
   "metadata": {},
   "outputs": [
    {
     "name": "stdout",
     "output_type": "stream",
     "text": [
      "Digite um valor: 2\n",
      "Digite um valor: 2\n",
      "Digite um valor: 2\n",
      "44\n"
     ]
    }
   ],
   "source": [
    "soma = 0\n",
    "for i in range(1,4):\n",
    "    n1 = int(input(\"Digite um valor: \"))\n",
    "    soma = soma + n1\n",
    "print(soma)"
   ]
  },
  {
   "cell_type": "code",
   "execution_count": null,
   "metadata": {},
   "outputs": [],
   "source": [
    "soma = 0\n",
    "i = 1\n",
    "while(i < 4):\n",
    "    n1 = int(input(\"Digite um valor: \"))\n",
    "    soma = soma + n1\n",
    "    i += 1\n",
    "print(soma)"
   ]
  },
  {
   "cell_type": "markdown",
   "metadata": {},
   "source": [
    "5.\tEscreva um algoritmo que calcule e imprima a tabuada do 8 (1 a 10)."
   ]
  },
  {
   "cell_type": "code",
   "execution_count": 48,
   "metadata": {},
   "outputs": [
    {
     "name": "stdout",
     "output_type": "stream",
     "text": [
      "8 x  1  =  8\n",
      "8 x  2  =  16\n",
      "8 x  3  =  24\n",
      "8 x  4  =  32\n",
      "8 x  5  =  40\n",
      "8 x  6  =  48\n",
      "8 x  7  =  56\n",
      "8 x  8  =  64\n",
      "8 x  9  =  72\n",
      "8 x  10  =  80\n"
     ]
    }
   ],
   "source": [
    "i = 1\n",
    "while(i < 11):\n",
    "    print(\"8 x \",  i , \" = \", 8 * i )\n",
    "    i +=1 #i++ ou i = i +1"
   ]
  },
  {
   "cell_type": "code",
   "execution_count": 50,
   "metadata": {},
   "outputs": [
    {
     "name": "stdout",
     "output_type": "stream",
     "text": [
      "33 x  1  =  33\n",
      "33 x  2  =  66\n",
      "33 x  3  =  99\n",
      "33 x  4  =  132\n",
      "33 x  5  =  165\n",
      "33 x  6  =  198\n",
      "33 x  7  =  231\n",
      "33 x  8  =  264\n",
      "33 x  9  =  297\n",
      "33 x  10  =  330\n"
     ]
    }
   ],
   "source": [
    "for i in range(1,11):\n",
    "    print(\"8 x \",  i , \" = \", 8 * i )"
   ]
  },
  {
   "cell_type": "markdown",
   "metadata": {},
   "source": [
    "6.\tEscreva um algoritmo para ler 10 números. Todos os números lidos com valor inferior a 40 devem ser somados. Escreva o valor final da soma efetuada."
   ]
  },
  {
   "cell_type": "code",
   "execution_count": 54,
   "metadata": {},
   "outputs": [
    {
     "name": "stdout",
     "output_type": "stream",
     "text": [
      "Coloque um valor: 3\n",
      "Coloque um valor: 5\n",
      "Coloque um valor: 8\n",
      "Coloque um valor: 6\n",
      "A soma dos valores menores que 40 é  22\n"
     ]
    }
   ],
   "source": [
    "soma = 0\n",
    "for x in range (1,5):\n",
    "    n1 = int(input(\"Coloque um valor: \"))\n",
    "    if(n1 < 40):\n",
    "        soma = soma + n1 # soma += n1\n",
    "print(\"A soma dos valores menores que 40 é \", soma)\n"
   ]
  },
  {
   "cell_type": "code",
   "execution_count": 56,
   "metadata": {},
   "outputs": [
    {
     "name": "stdout",
     "output_type": "stream",
     "text": [
      "Coloque um valor: 1\n",
      "Coloque um valor: 4\n",
      "Coloque um valor: 6\n",
      "Coloque um valor: 66\n",
      "A soma dos valores menores que 40 é  11\n"
     ]
    }
   ],
   "source": [
    "soma = 0\n",
    "i = 1\n",
    "while(i < 5):\n",
    "    n1 = int(input(\"Coloque um valor: \"))\n",
    "    if(n1 < 40):\n",
    "        soma = soma + n1 # soma += n1\n",
    "    i +=1\n",
    "print(\"A soma dos valores menores que 40 é \", soma)"
   ]
  },
  {
   "cell_type": "markdown",
   "metadata": {},
   "source": [
    "### Lista de Exercício para ENTREGA\n",
    "### Atividade 03\n",
    "### DATA DE ENTREGA: 16/09/2020, até às 23h59min\n",
    "\n",
    "#### Exercícios 7, 8 e 9 são para entrega!\n",
    "\n",
    "Entrega individual!\n",
    "\n",
    "Endereço: http://bit.ly/IPE_Atividade03_10-09-2020\n",
    "\n"
   ]
  },
  {
   "cell_type": "markdown",
   "metadata": {},
   "source": [
    "7.\tLer 10 valores e escrever quantos desses valores lidos estão no intervalo entre 10 e 20 (incluindo os valores 10 e 20 no intervalo) e quantos deles estão fora deste intervalo."
   ]
  },
  {
   "cell_type": "code",
   "execution_count": null,
   "metadata": {},
   "outputs": [],
   "source": []
  },
  {
   "cell_type": "markdown",
   "metadata": {},
   "source": [
    "8.\tFaça um algoritmo que calcule e escreva a média aritmética dos números inteiros entre 15 (inclusive) e 100 (inclusive)."
   ]
  },
  {
   "cell_type": "code",
   "execution_count": null,
   "metadata": {},
   "outputs": [],
   "source": []
  },
  {
   "cell_type": "markdown",
   "metadata": {},
   "source": [
    "9.\tLer um valor inteiro (aceitar somente valores entre 1 e 10) e escrever a tabuada de 1 a 10 do valor lido."
   ]
  },
  {
   "cell_type": "code",
   "execution_count": null,
   "metadata": {},
   "outputs": [],
   "source": []
  },
  {
   "cell_type": "markdown",
   "metadata": {},
   "source": [
    "Copiar seu arquivo DOC para o endereço:\n",
    "\n",
    "Endereço: http://bit.ly/IPE_Atividade03_10-09-2020\n",
    "\n",
    "Entrega até 16/09/2020\n",
    "\n",
    "Copie suas soluções em um arquivo DOC, salve com o seguinte padrão e envie no link acima.\n"
   ]
  },
  {
   "cell_type": "code",
   "execution_count": null,
   "metadata": {},
   "outputs": [],
   "source": []
  }
 ],
 "metadata": {
  "kernelspec": {
   "display_name": "Python 3",
   "language": "python",
   "name": "python3"
  },
  "language_info": {
   "codemirror_mode": {
    "name": "ipython",
    "version": 3
   },
   "file_extension": ".py",
   "mimetype": "text/x-python",
   "name": "python",
   "nbconvert_exporter": "python",
   "pygments_lexer": "ipython3",
   "version": "3.8.3"
  }
 },
 "nbformat": 4,
 "nbformat_minor": 4
}
