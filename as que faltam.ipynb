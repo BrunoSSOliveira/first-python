{
 "cells": [
  {
   "cell_type": "markdown",
   "metadata": {},
   "source": [
    "#                                       Atividade 4 - 24/09/2020"
   ]
  },
  {
   "cell_type": "markdown",
   "metadata": {},
   "source": [
    "EXERCÍCIO 7 - Faça um programa que lê 3 valores inteiros A, B,C e exiba os valores na tela. A seguir, encontre o maior e o menor dos 3 valores."
   ]
  },
  {
   "cell_type": "code",
   "execution_count": null,
   "metadata": {},
   "outputs": [
    {
     "name": "stdout",
     "output_type": "stream",
     "text": [
      "valores\n"
     ]
    }
   ],
   "source": [
    "print(\"valores\")\n",
    "a = float(input(\"Digite Um valor inteiro: \"))\n",
    "b = float(input(\"Digite Um valor inteiro: \"))\n",
    "c = float(input(\"Digite Um valor inteiro: \"))\n",
    "print (\"valor a:\" ,a)\n",
    "print (\"valor b:\" ,b)\n",
    "print (\"valor c:\" ,c)\n",
    "if (a > b) and (a > c) :\n",
    "    print(a, \"é o valor Maior\")\n",
    "elif (b > c) :\n",
    "    print(b, \"é o valor Maior\")\n",
    "elif (c > b):\n",
    "    print(c , \"é o valor Maior\")\n",
    "if (a < b) and (a < c) :\n",
    "    print(a, \"é o valor Menor\")\n",
    "elif (b < c) :\n",
    "    print(b, \"é o valor Menor\")\n",
    "elif (c < b):\n",
    "    print(c , \"é o valor Menor\")"
   ]
  },
  {
   "cell_type": "markdown",
   "metadata": {},
   "source": [
    "EXERCÍCIO 8 - Elabore um programa para solicitar uma pontuação entre 0.0 e 1.0. Se o resultado estiver fora da faixa, imprimir uma mensagem de erro. Se a pontuação estiver entre 0.0 e 1.0, imprimir a nota utilizando a seguinte tabela:\n",
    "\n",
    "PONTO     | NOTA\n",
    "\n",
    ". > = 0,9 | A\n",
    "\n",
    ". > = 0,8 | B\n",
    "\n",
    ". > = 0,7 | C\n",
    "\n",
    ". > = 0,6 | D\n",
    "\n",
    ". <    0,6 | F"
   ]
  },
  {
   "cell_type": "code",
   "execution_count": null,
   "metadata": {},
   "outputs": [],
   "source": [
    "nota = float(input(\"Insira nota: \"))\n",
    "if nota <=1 and nota >=0:\n",
    "if nota >=0.9:\n",
    "   print(\"Nota A\")\n",
    " elif nota >=0.8:\n",
    "   print(\"Nota b\")\n",
    " elif nota >=0.7:\n",
    "   print(\"Nota c\")\n",
    " elif nota >=0.6:\n",
    "   print(\"Nota d\")\n",
    " elif nota <0.6:\n",
    "   print(\"Nota f\")\n",
    "else:\n",
    " print(\"Mensagem de erro!\")"
   ]
  },
  {
   "cell_type": "markdown",
   "metadata": {},
   "source": [
    "EXERCÍCIO 9 -Tendo como dados de entrada a altura e o sexo de uma pessoa (?M? masculino e ?F? feminino), construa um programa que calcule seu peso ideal, utilizando as seguintes fórmulas: \n",
    "a)\tpara homens: (72.7*h)-58\n",
    "b)\tpara mulheres: (62.1*h)-44.7"
   ]
  },
  {
   "cell_type": "code",
   "execution_count": null,
   "metadata": {},
   "outputs": [],
   "source": [
    "sexo=str(input(\"Digite seu sexo: \"))\n",
    "peso=float(input(\"Digite o seu peso: \"))\n",
    "altura=float(input(\"Digite sua altura: \"))\n",
    "imc= peso / (altura *2)\n",
    "print(\"O imc dessa pessoa e {:.1f}\".format(imc))"
   ]
  },
  {
   "cell_type": "markdown",
   "metadata": {},
   "source": [
    "#                                 Atividade 06 - 08/10/2020"
   ]
  },
  {
   "cell_type": "markdown",
   "metadata": {},
   "source": [
    "6- Escreva um programa em Python para imprimir uma matriz de tamanho 10 x 10, onde seus elementos são da forma abaixo:\n",
    "\n",
    "A[i][j] = 2 ∗ i + 7 ∗ j, se i < j;\n",
    "\n",
    "A[i][j] = 3 ∗ i2 + 7 ∗ j, se i = j;\n",
    "\n",
    "A[i][j] = 4 ∗ i3 + 5 ∗ j2, se i > j;"
   ]
  },
  {
   "cell_type": "code",
   "execution_count": null,
   "metadata": {},
   "outputs": [],
   "source": [
    "matriz = []\n",
    "\n",
    "for i in range(10):\n",
    "    linha = []\n",
    "    matriz.append(linha)\n",
    "    for j in range(10):\n",
    "        if i < j:\n",
    "            cont = 2 * i + 7 * j\n",
    "            linha.append(cont)\n",
    "        elif i == j:\n",
    "            cont = 3 * i ** 2 + 7 * j\n",
    "            linha.append(cont)\n",
    "        elif i > j:\n",
    "            cont = 4 * i ** 3 + 5 * j ** 2\n",
    "            linha.append(cont)\n",
    "\n",
    "print(matriz)"
   ]
  },
  {
   "cell_type": "markdown",
   "metadata": {},
   "source": [
    "7- Utilizando listas faça um programa que faça 5 perguntas para uma pessoa sobre um crime. As perguntas são:\n",
    "\n",
    "\"Telefonou para a vítima?\"\n",
    "\"Esteve no local do crime?\"\n",
    "\"Mora perto da vítima?\"\n",
    "\"Tinha dívidas com a vítima?\"\n",
    "\"Já trabalhou com a vítima?“\n",
    "O programa deve no final emitir uma classificação sobre a participação da pessoa no crime. Se a pessoa responder positivamente a:\n",
    "\n",
    " * Duas questões ela deve ser classificada como: \"Suspeita“; \n",
    " * Três e Quatro como \"Cúmplice\" e; \n",
    " * Cinco como \"Assassino\". Caso contrário, ele será classificado como \"Inocente\"."
   ]
  },
  {
   "cell_type": "code",
   "execution_count": null,
   "metadata": {},
   "outputs": [],
   "source": [
    "print(\"Responda com 'S/N'!\")\n",
    "questions = [\n",
    "    \"Telefonou para a vítima? \",\n",
    "    \"Esteve no local do crime? \",\n",
    "    \"Mora perto da vítima? \",\n",
    "    \"Tinha dívidas com a vítima? \",\n",
    "    \"Já trabalhou com a vítima? \"\n",
    "]\n",
    "\n",
    "resp = 0\n",
    "for quant in questions:\n",
    "    resp += (input(quant) == \"S\")\n",
    "\n",
    "if resp == 5:\n",
    "    print('Assassino!!!')\n",
    "elif resp >= 3:\n",
    "    print('Cúmplice!')\n",
    "elif resp == 2:\n",
    "    print('Suspeito!')\n",
    "else:\n",
    "    print('Inocente!')"
   ]
  },
  {
   "cell_type": "markdown",
   "metadata": {},
   "source": [
    "#                    Atividade 7 - 22/10/2020"
   ]
  },
  {
   "cell_type": "markdown",
   "metadata": {},
   "source": [
    "6- Elabore um programa que solicite ao usuário um nome de fruta, na sequência verifique se a fruta existe\n",
    "dentro do arquivo que criamos. Caso a fruta exista, exiba a mensagem “Parabéns, você acertou a\n",
    "fruta”, caso contrário exiba a mensagem “Desculpe, você não acertou a fruta”."
   ]
  },
  {
   "cell_type": "code",
   "execution_count": null,
   "metadata": {},
   "outputs": [],
   "source": [
    "fruit = input(\"Escolha uma fruta que você ache que esteja na lista: \")\n",
    "arquivo = open ('Palavra.txt', 'r')\n",
    "for linha in arquivo: \n",
    "    linha = linha.rstrip()\n",
    "    if fruit == linha:\n",
    "        print(\"Parabéns, você acertou a fruta\")\n",
    "        break\n",
    "    else:\n",
    "        print(\"Desculpe, você errou a fruta\")\n",
    "        break\n",
    "arquivo.close()"
   ]
  },
  {
   "cell_type": "markdown",
   "metadata": {},
   "source": [
    "7 - Faça um programa que receba do usuário um arquivo texto e mostre na tela quantas letras são vogais\n",
    "e quantas são consoantes."
   ]
  },
  {
   "cell_type": "code",
   "execution_count": null,
   "metadata": {},
   "outputs": [],
   "source": [
    "user = open(\"user.txt\", \"w\")\n",
    "user.write(input(\"Insira uma frase: \"))\n",
    "user.close()\n",
    "\n",
    "vog = 0\n",
    "cons = 0\n",
    "conversor = ''\n",
    "\n",
    "user = open(\"user.txt\", \"r\")\n",
    "for linha in user: \n",
    "    conversor += linha\n",
    "conversor = conversor.lower()\n",
    "user.close()\n",
    "\n",
    "for letra in conversor:\n",
    "    if letra == 'a' or letra == 'e' or letra == 'i' or letra == 'o' or letra == 'u' in conversor:\n",
    "        vog += 1\n",
    "    elif letra == ' ' or letra == ',' or letra == '.' or letra == \"'\":\n",
    "        exluir = 0      \n",
    "    else:\n",
    "        cons += 1 \n",
    "print(\"Existem {0} Vogais e {1} Consoantes na frase.\".format(vog,cons))"
   ]
  },
  {
   "cell_type": "code",
   "execution_count": null,
   "metadata": {},
   "outputs": [],
   "source": []
  }
 ],
 "metadata": {
  "kernelspec": {
   "display_name": "Python 3",
   "language": "python",
   "name": "python3"
  },
  "language_info": {
   "codemirror_mode": {
    "name": "ipython",
    "version": 3
   },
   "file_extension": ".py",
   "mimetype": "text/x-python",
   "name": "python",
   "nbconvert_exporter": "python",
   "pygments_lexer": "ipython3",
   "version": "3.8.3"
  }
 },
 "nbformat": 4,
 "nbformat_minor": 4
}
