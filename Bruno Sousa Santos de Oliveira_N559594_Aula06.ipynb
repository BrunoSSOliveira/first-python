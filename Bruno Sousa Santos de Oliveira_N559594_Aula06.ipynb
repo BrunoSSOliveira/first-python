{
 "cells": [
  {
   "cell_type": "markdown",
   "metadata": {},
   "source": [
    "# Lista de Exercício para serem resolvidos em AULA\n",
    "##     Atividade 06 - 24/09/2020\n"
   ]
  },
  {
   "cell_type": "markdown",
   "metadata": {},
   "source": [
    "1.\tFaça um programa que leia um nº inteiro e mostre uma mensagem indicando se este número é positivo ou negativo."
   ]
  },
  {
   "cell_type": "code",
   "execution_count": null,
   "metadata": {},
   "outputs": [],
   "source": []
  },
  {
   "cell_type": "markdown",
   "metadata": {},
   "source": [
    "2. Faça um programa para ler um número do usuário e determinar se este número é par ou ímpar."
   ]
  },
  {
   "cell_type": "code",
   "execution_count": 5,
   "metadata": {},
   "outputs": [
    {
     "name": "stdout",
     "output_type": "stream",
     "text": [
      "Insira um número: 7\n",
      "Ímpar\n"
     ]
    }
   ],
   "source": [
    "num = int(input(\"Insira um número: \"))\n",
    "\n",
    "if (num%2) == 0:\n",
    "    print(\"Par\")\n",
    "else:\n",
    "    print(\"Ímpar\")"
   ]
  },
  {
   "cell_type": "markdown",
   "metadata": {},
   "source": [
    "3. Faça um programa que recebe um símbolo de operação do usuário (+, -, / ou *) e dois números reais. O programa deve retornar o resultado da operação recebida sobre estes dois números."
   ]
  },
  {
   "cell_type": "code",
   "execution_count": 7,
   "metadata": {},
   "outputs": [
    {
     "name": "stdout",
     "output_type": "stream",
     "text": [
      "\n",
      "Please type in the math operation you would like to complete:\n",
      "+ para adição\n",
      "- para subtração\n",
      "* para multiplication\n",
      "/ para division\n",
      "+\n",
      "Please enter the first number: 5\n",
      "Please enter the second number: 8\n",
      "5.0 + 8.0 = \n",
      "13.0\n"
     ]
    }
   ],
   "source": [
    "opera = input('''\n",
    "Please type in the math operation you would like to complete:\n",
    "+ para adição\n",
    "- para subtração\n",
    "* para multiplication\n",
    "/ para division\n",
    "''')\n",
    "\n",
    "num1 = float(input('Digite o primeiro número: '))\n",
    "num2 = float(input('Digite o segundo número: '))\n",
    "\n",
    "if opera == '+':\n",
    "    print('{} + {} = '.format(num1, num2))\n",
    "    print(num1 + num2)\n",
    "\n",
    "elif opera == '-':\n",
    "    print('{} - {} = '.format(num1, num2))\n",
    "    print(num1 - num2)\n",
    "\n",
    "elif opera == '*':\n",
    "    print('{} * {} = '.format(num1, num2))\n",
    "    print(num1 * num2)\n",
    "\n",
    "elif opera == '/':\n",
    "    print('{} / {} = '.format(num1, num2))\n",
    "    print(num1 / num2)\n",
    "\n",
    "else:\n",
    "    print('Digite um operador válido.')"
   ]
  },
  {
   "cell_type": "markdown",
   "metadata": {},
   "source": [
    "4.\tElabore um programa que leia duas notas de prova, calcule a média aritmética e caso o resultado seja maior ou igual a sete exiba a mensagem aprovado, caso contrário exiba a mensagem reprovado."
   ]
  },
  {
   "cell_type": "code",
   "execution_count": 11,
   "metadata": {},
   "outputs": [
    {
     "name": "stdout",
     "output_type": "stream",
     "text": [
      "Insira a nota 1: 7\n",
      "Insira a nota 2: 8\n",
      "Aluno aprovado, nota:  7.5\n"
     ]
    }
   ],
   "source": [
    "not1 = int(input(\"Insira a nota 1: \"))\n",
    "not2 = int(input(\"Insira a nota 2: \"))\n",
    "\n",
    "media = (not1+not2)/2\n",
    "\n",
    "if media >= 7:\n",
    "    print(\"Aluno aprovado, nota: \", media)\n",
    "else:\n",
    "    print(\"Aluno reprovado, nota:\", media)"
   ]
  },
  {
   "cell_type": "markdown",
   "metadata": {},
   "source": [
    "5. Elabore um programa que receba 2 valores numéricos, utilize o try e except para que o programa trate entradas não numérica amigavelmente imprimindo uma mensagem e finalizando o programa, conforme exemplos abaixo:\n",
    "Digite as Horas: 20\n",
    "Digite a Taxa: nove\n",
    "Erro, por favor, informe entrada numérica\n",
    "Digite as Horas: quarenta\n",
    "Erro, por favor, informe entrada numérica"
   ]
  },
  {
   "cell_type": "code",
   "execution_count": null,
   "metadata": {},
   "outputs": [],
   "source": [
    "try\n",
    "    int(input(\"Digite as horas: \"))\n",
    "    int(input(\"Digite aa taxa: \"))\n",
    "except: print(\"Erro, digite novamente entrada numerica\")\n"
   ]
  },
  {
   "cell_type": "markdown",
   "metadata": {},
   "source": [
    "6. Elabore um programa para ler a base e altura de um triângulo e imprimir a área deste triângulo. Durante a preparação dos dados para este algoritmo, é possível que se cometa um erro e entrem valores negativos para a base ou para a altura. Isto é indesejável, pois a área impressa poderá ser negativa. Prever no algoritmo a possibilidade de verificar valores negativos na entrada. Se um valor negativo é encontrado, imprimir uma mensagem identificando este valor como base ou altura. Sabe-se que: área = (base*altura )/2."
   ]
  },
  {
   "cell_type": "code",
   "execution_count": null,
   "metadata": {},
   "outputs": [],
   "source": []
  },
  {
   "cell_type": "markdown",
   "metadata": {},
   "source": [
    "### Lista de Exercício para ENTREGA\n",
    "### Atividade 05\n",
    "### DATA DE ENTREGA: 30/09/2020, até às 23h59min\n",
    "\n",
    "#### Exercícios 7, 8 e 9 são para entrega!\n",
    "\n",
    "Entrega individual!\n",
    "\n",
    "Endereço: http://bit.ly/IPE_Atividade05_24-09-2020\n",
    "\n",
    "\n",
    "\n",
    "#### Os arquivos devem OBRIGATORIAMENTE ser enviado pelo e-mail institucional @aluno.unip.br\n",
    "\n",
    " \n"
   ]
  },
  {
   "cell_type": "markdown",
   "metadata": {},
   "source": [
    "7. Faça um programa que lê 3 valores inteiros A, B,C e exiba os valores na tela. A seguir, encontre o maior e o menor dos 3 valores."
   ]
  },
  {
   "cell_type": "code",
   "execution_count": 19,
   "metadata": {},
   "outputs": [
    {
     "name": "stdout",
     "output_type": "stream",
     "text": [
      "Insira um Valor: 1\n",
      "Insira um Valor: 2\n",
      "Insira um Valor: 3\n",
      "\n",
      "Maior Valor:  3\n",
      "Menor Valor:  1\n"
     ]
    }
   ],
   "source": [
    "num = []\n",
    "for i in range (3):\n",
    "    num.append(int(input(\"Insira um Valor: \")))\n",
    "    num.sort()\n",
    "\n",
    "print(\"\")\n",
    "print(\"Maior Valor: \", num[2])\n",
    "print(\"Menor Valor: \", num[0])"
   ]
  },
  {
   "cell_type": "markdown",
   "metadata": {},
   "source": [
    "8.\tElabore um programa para solicitar uma pontuação entre 0.0 e 1.0. Se o resultado estiver fora da faixa, imprimir uma mensagem de erro. Se a pontuação estiver entre 0.0 e 1.0, imprimir a nota utilizando a seguinte tabela:\n",
    "\n",
    "PONTO     | NOTA\n",
    "\n",
    ". > = 0,9 | A\n",
    "\n",
    ". > = 0,8 | B\n",
    "\n",
    ". > = 0,7 | C\n",
    "\n",
    ". > = 0,6 | D\n",
    "\n",
    ". <    0,6 | F"
   ]
  },
  {
   "cell_type": "code",
   "execution_count": 26,
   "metadata": {},
   "outputs": [
    {
     "name": "stdout",
     "output_type": "stream",
     "text": [
      "Insira a nota: 0.76\n",
      "C\n"
     ]
    }
   ],
   "source": [
    "nota = float(input(\"Insira a nota: \"))\n",
    "\n",
    "if nota > 1.0:\n",
    "    print(\"Digite uma nota válida!\")\n",
    "elif nota >= 0.9:\n",
    "    print(\"A\")\n",
    "elif nota >= 0.8:\n",
    "    print(\"B\")\n",
    "elif nota >= 0.7:\n",
    "    print(\"C\")\n",
    "elif nota >= 0.6:\n",
    "    print(\"D\")\n",
    "elif nota < 0.6:\n",
    "    print(\"F\")\n",
    "else:\n",
    "    print(\"Insira uma nota válida.\")"
   ]
  },
  {
   "cell_type": "markdown",
   "metadata": {},
   "source": [
    "9.\tTendo como dados de entrada a altura e o sexo de uma pessoa (?M? masculino e ?F? feminino), construa um programa que calcule seu peso ideal, utilizando as seguintes fórmulas: \n",
    "a)\tpara homens: (72.7*h)-58\n",
    "b)\tpara mulheres: (62.1*h)-44.7"
   ]
  },
  {
   "cell_type": "code",
   "execution_count": 12,
   "metadata": {},
   "outputs": [
    {
     "name": "stdout",
     "output_type": "stream",
     "text": [
      "Insira a altura da pessoa - ex:'1.75': 1.80\n",
      "Masculino = M | Feminino = F: m\n",
      "Seu peso ideal seria:  72.86000000000001\n"
     ]
    }
   ],
   "source": [
    "h = float(input(\"Insira a altura da pessoa - ex:'1.75': \"))\n",
    "sex = input(\"Masculino = M | Feminino = F: \")\n",
    "\n",
    "if sex == \"M\":\n",
    "    peso = 72.7 * h - 58\n",
    "    print(\"Seu peso ideal seria: \", peso)\n",
    "elif sex == \"m\":\n",
    "    peso = 72.7 * h - 58\n",
    "    print(\"Seu peso ideal seria: \", peso)\n",
    "elif sex == \"F\":\n",
    "    peso = 62.1 * h - 44.7\n",
    "    print(\"Seu peso ideal seria: \", peso)\n",
    "elif sex == \"f\":\n",
    "    peso = 62.1 * h - 44.7\n",
    "    print(\"Seu peso ideal seria: \", peso)\n",
    "else:\n",
    "    print(\"Algo deu errado, tente de novo\")"
   ]
  },
  {
   "cell_type": "markdown",
   "metadata": {},
   "source": [
    "Faça o download do seu arquivo IPYNB, e envie no link abaixo. \n",
    "\n",
    "Endereço: http://bit.ly/IPE_Atividade05_24-09-2020\n",
    "\n",
    "Entrega até 30/09/2020\n",
    "\n",
    "Faça o download do seu arquivo IPYNB, e envie no link acima. \n",
    "\n",
    "Salve com o seguinte padrão NOMECOMPLETO_RA e envie no link acima.\n",
    "\n",
    "#### Os arquivos devem OBRIGATORIAMENTE ser enviado pelo e-mail institucional @aluno.unip.br\n"
   ]
  }
 ],
 "metadata": {
  "kernelspec": {
   "display_name": "Python 3",
   "language": "python",
   "name": "python3"
  },
  "language_info": {
   "codemirror_mode": {
    "name": "ipython",
    "version": 3
   },
   "file_extension": ".py",
   "mimetype": "text/x-python",
   "name": "python",
   "nbconvert_exporter": "python",
   "pygments_lexer": "ipython3",
   "version": "3.8.3"
  }
 },
 "nbformat": 4,
 "nbformat_minor": 4
}
