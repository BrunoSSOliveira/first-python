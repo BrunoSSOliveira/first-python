{
 "cells": [
  {
   "cell_type": "code",
   "execution_count": null,
   "metadata": {},
   "outputs": [],
   "source": [
    "Bruno Sousa Santos de Oliveira N559594"
   ]
  },
  {
   "cell_type": "markdown",
   "metadata": {},
   "source": [
    "Atividades 10/09/2020"
   ]
  },
  {
   "cell_type": "markdown",
   "metadata": {},
   "source": [
    "7. Ler 10 valores e escrever quantos desses valores lidos estão no intervalo entre 10 e 20 (incluindo os\n",
    "valores 10 e 20 no intervalo) e quantos deles estão fora deste intervalo."
   ]
  },
  {
   "cell_type": "code",
   "execution_count": 6,
   "metadata": {},
   "outputs": [
    {
     "name": "stdout",
     "output_type": "stream",
     "text": [
      "Digite um valor: 1\n",
      "Digite um valor: 5\n",
      "Digite um valor: 11\n",
      "Digite um valor: 20\n",
      "Digite um valor: 21\n",
      "Digite um valor: 15\n",
      "Digite um valor: 75\n",
      "Digite um valor: 81\n",
      "Digite um valor: 12\n",
      "Digite um valor: 55\n",
      "os valores entre 10 e 20, aparecem  4  vezes.\n",
      "os valores fora desse intervalo, aparecem  6  vezes.\n"
     ]
    }
   ],
   "source": [
    "vezesqs = 0\n",
    "vezesqn = 0\n",
    "vet = [0]*10\n",
    "\n",
    "for i in range(10):\n",
    "    vet[i] = int(input(\"Digite um valor: \"))\n",
    "for i in range(10):\n",
    "    if vet[i] >= 10 and vet[i] <= 20:\n",
    "        vezesqs = vezesqs + 1\n",
    "    else:\n",
    "        vezesqn = vezesqn + 1\n",
    "print(\"os valores entre 10 e 20, aparecem \",vezesqs,\" vezes.\")\n",
    "print(\"os valores fora desse intervalo, aparecem \",vezesqn,\" vezes.\")"
   ]
  },
  {
   "cell_type": "markdown",
   "metadata": {},
   "source": [
    "8. Faça um algoritmo que calcule e escreva a média aritmética dos números inteiros entre 15 (inclusive) e\n",
    "100 (inclusive)."
   ]
  },
  {
   "cell_type": "code",
   "execution_count": 8,
   "metadata": {},
   "outputs": [
    {
     "name": "stdout",
     "output_type": "stream",
     "text": [
      "15 / 15 =   1.0\n",
      "31 / 16 =   1.9\n",
      "48 / 17 =   2.8\n",
      "66 / 18 =   3.7\n",
      "85 / 19 =   4.5\n",
      "105 / 20 =   5.2\n",
      "126 / 21 =   6.0\n",
      "148 / 22 =   6.7\n",
      "171 / 23 =   7.4\n",
      "195 / 24 =   8.1\n",
      "220 / 25 =   8.8\n",
      "246 / 26 =   9.5\n",
      "273 / 27 =  10.1\n",
      "301 / 28 =  10.8\n",
      "330 / 29 =  11.4\n",
      "360 / 30 =  12.0\n",
      "391 / 31 =  12.6\n",
      "423 / 32 =  13.2\n",
      "456 / 33 =  13.8\n",
      "490 / 34 =  14.4\n",
      "525 / 35 =  15.0\n",
      "561 / 36 =  15.6\n",
      "598 / 37 =  16.2\n",
      "636 / 38 =  16.7\n",
      "675 / 39 =  17.3\n",
      "715 / 40 =  17.9\n",
      "756 / 41 =  18.4\n",
      "798 / 42 =  19.0\n",
      "841 / 43 =  19.6\n",
      "885 / 44 =  20.1\n",
      "930 / 45 =  20.7\n",
      "976 / 46 =  21.2\n",
      "1023 / 47 =  21.8\n",
      "1071 / 48 =  22.3\n",
      "1120 / 49 =  22.9\n",
      "1170 / 50 =  23.4\n",
      "1221 / 51 =  23.9\n",
      "1273 / 52 =  24.5\n",
      "1326 / 53 =  25.0\n",
      "1380 / 54 =  25.6\n",
      "1435 / 55 =  26.1\n",
      "1491 / 56 =  26.6\n",
      "1548 / 57 =  27.2\n",
      "1606 / 58 =  27.7\n",
      "1665 / 59 =  28.2\n",
      "1725 / 60 =  28.8\n",
      "1786 / 61 =  29.3\n",
      "1848 / 62 =  29.8\n",
      "1911 / 63 =  30.3\n",
      "1975 / 64 =  30.9\n",
      "2040 / 65 =  31.4\n",
      "2106 / 66 =  31.9\n",
      "2173 / 67 =  32.4\n",
      "2241 / 68 =  33.0\n",
      "2310 / 69 =  33.5\n",
      "2380 / 70 =  34.0\n",
      "2451 / 71 =  34.5\n",
      "2523 / 72 =  35.0\n",
      "2596 / 73 =  35.6\n",
      "2670 / 74 =  36.1\n",
      "2745 / 75 =  36.6\n",
      "2821 / 76 =  37.1\n",
      "2898 / 77 =  37.6\n",
      "2976 / 78 =  38.2\n",
      "3055 / 79 =  38.7\n",
      "3135 / 80 =  39.2\n",
      "3216 / 81 =  39.7\n",
      "3298 / 82 =  40.2\n",
      "3381 / 83 =  40.7\n",
      "3465 / 84 =  41.2\n",
      "3550 / 85 =  41.8\n",
      "3636 / 86 =  42.3\n",
      "3723 / 87 =  42.8\n",
      "3811 / 88 =  43.3\n",
      "3900 / 89 =  43.8\n",
      "3990 / 90 =  44.3\n",
      "4081 / 91 =  44.8\n",
      "4173 / 92 =  45.4\n",
      "4266 / 93 =  45.9\n",
      "4360 / 94 =  46.4\n",
      "4455 / 95 =  46.9\n",
      "4551 / 96 =  47.4\n",
      "4648 / 97 =  47.9\n",
      "4746 / 98 =  48.4\n",
      "4845 / 99 =  48.9\n",
      "4945 / 100 =  49.5\n"
     ]
    }
   ],
   "source": [
    "ar = 0\n",
    "for i in range(15,101):\n",
    "    ar = ar + i\n",
    "    print('%d / %d = %5.1f' % (ar,i,ar/i))"
   ]
  },
  {
   "cell_type": "markdown",
   "metadata": {},
   "source": [
    "9. Ler um valor inteiro (aceitar somente valores entre 1 e 10) e escrever a tabuada de 1 a 10 do valor lido."
   ]
  },
  {
   "cell_type": "code",
   "execution_count": 12,
   "metadata": {},
   "outputs": [
    {
     "name": "stdout",
     "output_type": "stream",
     "text": [
      "Digite um valor entre 1 e 10: 8\n",
      "8  x  1  =  8\n",
      "8  x  2  =  16\n",
      "8  x  3  =  24\n",
      "8  x  4  =  32\n",
      "8  x  5  =  40\n",
      "8  x  6  =  48\n",
      "8  x  7  =  56\n",
      "8  x  8  =  64\n",
      "8  x  9  =  72\n",
      "8  x  10  =  80\n"
     ]
    }
   ],
   "source": [
    "val = int(input(\"Digite um valor entre 1 e 10: \"))\n",
    "\n",
    "if val <= 10 and val >= 1:\n",
    "    for i in range(1,11):\n",
    "        print (val,' x ',i,' = ',(val * i))\n",
    "else:\n",
    "    print(\"Insira um valor entre 1 e 10!\")"
   ]
  },
  {
   "cell_type": "markdown",
   "metadata": {},
   "source": [
    "Atividades 08/10/2020"
   ]
  },
  {
   "cell_type": "markdown",
   "metadata": {},
   "source": [
    "6. Escreva um programa em Python para imprimir uma matriz de tamanho 10 x 10, onde seus elementos\n",
    "são da forma abaixo:\n",
    "    \n",
    "• A[i][j] = 2 ∗ i + 7 ∗ j, se i < j;\n",
    "• A[i][j] = 3 ∗ i^2 + 7 ∗ j, se i = j;\n",
    "• A[i][j] = 4 ∗ i^3 + 5 ∗ j^2, se i > j;"
   ]
  },
  {
   "cell_type": "code",
   "execution_count": 32,
   "metadata": {},
   "outputs": [
    {
     "name": "stdout",
     "output_type": "stream",
     "text": [
      "[  0  ][  7  ][ 14  ][ 21  ][ 28  ][ 35  ][ 42  ][ 49  ][ 56  ][ 63  ]\n",
      "[  4  ][ 10  ][ 16  ][ 23  ][ 30  ][ 37  ][ 44  ][ 51  ][ 58  ][ 65  ]\n",
      "[ 32  ][ 37  ][ 26  ][ 25  ][ 32  ][ 39  ][ 46  ][ 53  ][ 60  ][ 67  ]\n",
      "[ 108 ][ 113 ][ 128 ][ 48  ][ 34  ][ 41  ][ 48  ][ 55  ][ 62  ][ 69  ]\n",
      "[ 256 ][ 261 ][ 276 ][ 301 ][ 76  ][ 43  ][ 50  ][ 57  ][ 64  ][ 71  ]\n",
      "[ 500 ][ 505 ][ 520 ][ 545 ][ 580 ][ 110 ][ 52  ][ 59  ][ 66  ][ 73  ]\n",
      "[ 864 ][ 869 ][ 884 ][ 909 ][ 944 ][ 989 ][ 150 ][ 61  ][ 68  ][ 75  ]\n",
      "[1372 ][1377 ][1392 ][1417 ][1452 ][1497 ][1552 ][ 196 ][ 70  ][ 77  ]\n",
      "[2048 ][2053 ][2068 ][2093 ][2128 ][2173 ][2228 ][2293 ][ 248 ][ 79  ]\n",
      "[2916 ][2921 ][2936 ][2961 ][2996 ][3041 ][3096 ][3161 ][3236 ][ 306 ]\n"
     ]
    }
   ],
   "source": [
    "matriz = []\n",
    "\n",
    "for i in range(10):\n",
    "    linha = []\n",
    "    matriz.append(linha)\n",
    "    for j in range(10):\n",
    "        if i < j:\n",
    "            cont = 2 * i + 7 * j\n",
    "            linha.append(cont)\n",
    "        elif i == j:\n",
    "            cont = 3 * i ** 2 + 7 * j\n",
    "            linha.append(cont)\n",
    "        elif i > j:\n",
    "            cont = 4 * i ** 3 + 5 * j ** 2\n",
    "            linha.append(cont)\n",
    "\n",
    "for i in range(0, 10):\n",
    "    for j in range(0, 10):\n",
    "        print(f'[{matriz[i][j]:^5}]', end='')\n",
    "    print()"
   ]
  },
  {
   "cell_type": "markdown",
   "metadata": {},
   "source": [
    "7. Utilizando listas faça um programa que faça 5 perguntas para uma pessoa sobre um crime. As\n",
    "perguntas são:\n",
    "    \n",
    "• \"Telefonou para a vítima?\"\n",
    "• \"Esteve no local do crime?\"\n",
    "• \"Mora perto da vítima?\"\n",
    "• \"Tinha dívidas com a vítima?\"\n",
    "• \"Já trabalhou com a vítima?\"\n",
    "\n",
    "O programa deve no final emitir uma classificação sobre a participação da pessoa no crime.\n",
    "Se a pessoa responder positivamente a:\n",
    "    \n",
    "• Duas questões ela deve ser classificada como: \"Suspeita“;\n",
    "• Três e Quatro como \"Cúmplice\" e;\n",
    "• Cinco como \"Assassino\". Caso contrário, ele será classificado como \"Inocente\"."
   ]
  },
  {
   "cell_type": "code",
   "execution_count": 40,
   "metadata": {},
   "outputs": [
    {
     "name": "stdout",
     "output_type": "stream",
     "text": [
      "Responda com 's' ou 'n'!\n",
      "Telefonou para a vítima? s\n",
      "Esteve no local do crime? n\n",
      "Mora perto da vítima? s\n",
      "Tinha dívidas com a vítima? n\n",
      "Já trabalhou com a vítima? n\n",
      "Suspeito!\n"
     ]
    }
   ],
   "source": [
    "print(\"Responda com 's' ou 'n'!\")\n",
    "\n",
    "perg = [\n",
    "        \"Telefonou para a vítima? \",\n",
    "        \"Esteve no local do crime? \",\n",
    "        \"Mora perto da vítima? \",\n",
    "        \"Tinha dívidas com a vítima? \",\n",
    "        \"Já trabalhou com a vítima? \"\n",
    "        ]\n",
    "\n",
    "resp = 0\n",
    "\n",
    "\n",
    "for i in perg:\n",
    "    resp += (input(i) == \"s\")\n",
    "\n",
    "if resp == 5:\n",
    "    print(\"Assassino!!!\")\n",
    "elif resp == 3 or resp == 4:\n",
    "    print(\"Cúmplice!\")\n",
    "elif resp == 2:\n",
    "    print(\"Suspeito!\")\n",
    "else:\n",
    "    print(\"Inocente!\")"
   ]
  },
  {
   "cell_type": "markdown",
   "metadata": {},
   "source": [
    "Atividades 22/10/2020"
   ]
  },
  {
   "cell_type": "markdown",
   "metadata": {},
   "source": [
    "6. Elabore um programa que solicite ao usuário um nome de fruta, na sequência verifique se a fruta existe\n",
    "dentro do arquivo que criamos. Caso a fruta exista, exiba a mensagem “Parabéns, você acertou a\n",
    "fruta”, caso contrário exiba a mensagem “Desculpe, você não acertou a fruta”."
   ]
  },
  {
   "cell_type": "code",
   "execution_count": 43,
   "metadata": {},
   "outputs": [
    {
     "name": "stdout",
     "output_type": "stream",
     "text": [
      "\n"
     ]
    }
   ],
   "source": [
    "frutinea = input(\"Digite o nome de uma fruta: \")\n",
    "fileFruit = open ('Fruta.txt', 'r')\n",
    "\n",
    "for i in fileFruit: \n",
    "    i = linha.rstrip()\n",
    "    if frutinea == i:\n",
    "        print(\"Parabéns, você acertou a fruta\")\n",
    "        break\n",
    "    else:\n",
    "        print(\"Desculpe, você errou a fruta\")\n",
    "        break\n",
    "        \n",
    "fileFruit.close()"
   ]
  },
  {
   "cell_type": "markdown",
   "metadata": {},
   "source": [
    "7. Faça um programa que receba do usuário um arquivo texto e mostre na tela quantas letras são vogais\n",
    "e quantas são consoantes."
   ]
  },
  {
   "cell_type": "code",
   "execution_count": 46,
   "metadata": {},
   "outputs": [
    {
     "name": "stdout",
     "output_type": "stream",
     "text": [
      "\n"
     ]
    }
   ],
   "source": [
    "USU = open(\"USUario.txt\", \"w\")\n",
    "USU.write(input(\"Digite uma frase: \"))\n",
    "USU.close()\n",
    "\n",
    "vogais = 0\n",
    "consoantes = 0\n",
    "convert = ''\n",
    "\n",
    "USU = open(\"USUario.txt\", \"r\")\n",
    "for i in USU: \n",
    "    convert += i\n",
    "convert = convert.lower()\n",
    "USU.close()\n",
    "\n",
    "for ix in conversor:\n",
    "    if ix == ' ' or ix == ',' or ix == '.' or ix == \"'\":\n",
    "        nada = 0\n",
    "    elif ix == 'a' or ix == 'e' or ix == 'i' or ix == 'o' or ix == 'u' in convert:\n",
    "        vogais += 1    \n",
    "    else:\n",
    "        consoantes += 1 \n",
    "print(\"Existem {0} Vogais e {1} Consoantes na frase.\".format(vogais,consoantes))"
   ]
  },
  {
   "cell_type": "code",
   "execution_count": null,
   "metadata": {},
   "outputs": [],
   "source": []
  }
 ],
 "metadata": {
  "kernelspec": {
   "display_name": "Python 3",
   "language": "python",
   "name": "python3"
  },
  "language_info": {
   "codemirror_mode": {
    "name": "ipython",
    "version": 3
   },
   "file_extension": ".py",
   "mimetype": "text/x-python",
   "name": "python",
   "nbconvert_exporter": "python",
   "pygments_lexer": "ipython3",
   "version": "3.8.3"
  }
 },
 "nbformat": 4,
 "nbformat_minor": 4
}
