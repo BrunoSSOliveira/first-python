{
 "cells": [
  {
   "cell_type": "markdown",
   "metadata": {},
   "source": [
    "# Lista de Exercício para serem resolvidos em AULA\n",
    "##     Atividade 07 - 01/10/2020"
   ]
  },
  {
   "cell_type": "raw",
   "metadata": {},
   "source": [
    "Interpolação de Strings\n",
    "•\t%s: string;\n",
    "•\t%d: inteiro;\n",
    "•\t%o: octal;\n",
    "•\t%x: hexacimal;\n",
    "•\t%f: real;\n",
    "•\t%e: real exponencial;\n",
    "•\t%%: sinal de percentagem. "
   ]
  },
  {
   "cell_type": "markdown",
   "metadata": {},
   "source": [
    "1.\tSolicite ao usuário uma string qualquer e retorne o tamanho (quantidade de caracteres) do texto digitado. "
   ]
  },
  {
   "cell_type": "code",
   "execution_count": 1,
   "metadata": {},
   "outputs": [
    {
     "name": "stdout",
     "output_type": "stream",
     "text": [
      "O tamanho do texto Hello World! é de 12 caracteres\n"
     ]
    }
   ],
   "source": [
    "texto = \"Hello World!\"\n",
    "print(\"O tamanho do texto %s é de %d caracteres\" %(texto, len(texto)))"
   ]
  },
  {
   "cell_type": "code",
   "execution_count": 2,
   "metadata": {},
   "outputs": [
    {
     "name": "stdout",
     "output_type": "stream",
     "text": [
      "O tamanho do texto 12  caracteres\n"
     ]
    }
   ],
   "source": [
    "texto = \"Hello World!\"\n",
    "print('O tamanho do texto', len(texto),' caracteres')"
   ]
  },
  {
   "cell_type": "markdown",
   "metadata": {},
   "source": [
    "2. Solicite ao usuário para informar a hora e os minutos, na saída se os valores informados não tiverem dois digitos, exibi-los com dois dígitos"
   ]
  },
  {
   "cell_type": "code",
   "execution_count": 2,
   "metadata": {},
   "outputs": [
    {
     "name": "stdout",
     "output_type": "stream",
     "text": [
      "Coloque a Hora 12\n",
      "Coloque os minutos 5\n",
      "São 12 : 05\n"
     ]
    }
   ],
   "source": [
    "h = int(input(\"Coloque a Hora \"))\n",
    "m = int(input(\"Coloque os minutos \"))\n",
    "print('São %02d'%(h),': %02d'%(m))"
   ]
  },
  {
   "cell_type": "markdown",
   "metadata": {},
   "source": [
    "3. Imprimir somente o terceiro caracter de uma palavra que o usuário digitar"
   ]
  },
  {
   "cell_type": "code",
   "execution_count": 3,
   "metadata": {},
   "outputs": [
    {
     "name": "stdout",
     "output_type": "stream",
     "text": [
      "t\n"
     ]
    }
   ],
   "source": [
    "texto = \"Python\"\n",
    "# P Y T H O N\n",
    "# 0 1 2 3 4 5\n",
    "print(texto[2])"
   ]
  },
  {
   "cell_type": "code",
   "execution_count": 5,
   "metadata": {},
   "outputs": [
    {
     "name": "stdout",
     "output_type": "stream",
     "text": [
      "Digite uma palavra qualquer: Bruno\n",
      "u\n"
     ]
    }
   ],
   "source": [
    "texto = input(\"Digite uma palavra qualquer: \")\n",
    "print(texto[2])"
   ]
  },
  {
   "cell_type": "code",
   "execution_count": 6,
   "metadata": {},
   "outputs": [
    {
     "name": "stdout",
     "output_type": "stream",
     "text": [
      "Digite uma palavra qualquer: Consumo\n",
      "C\n",
      "o\n",
      "n\n"
     ]
    }
   ],
   "source": [
    "texto = input(\"Digite uma palavra qualquer: \")\n",
    "for i in range(0,3):\n",
    "    print(texto[i])"
   ]
  },
  {
   "cell_type": "markdown",
   "metadata": {},
   "source": [
    "4. Imprimir o mesmo texto somente até o terceiro caractere"
   ]
  },
  {
   "cell_type": "code",
   "execution_count": 8,
   "metadata": {},
   "outputs": [
    {
     "name": "stdout",
     "output_type": "stream",
     "text": [
      "Digite algo: Xiaomi\n",
      "Xia\n"
     ]
    }
   ],
   "source": [
    "texto = input(\"Digite algo: \")\n",
    "print(texto[:3])"
   ]
  },
  {
   "cell_type": "markdown",
   "metadata": {},
   "source": [
    "5. Imprimir o mesmo texto a partir do terceiro caractere"
   ]
  },
  {
   "cell_type": "code",
   "execution_count": 9,
   "metadata": {},
   "outputs": [
    {
     "name": "stdout",
     "output_type": "stream",
     "text": [
      "Digite algo: Tabela\n",
      "bela\n"
     ]
    }
   ],
   "source": [
    "texto = input(\"Digite algo: \")\n",
    "print(texto[2:])"
   ]
  },
  {
   "cell_type": "markdown",
   "metadata": {},
   "source": [
    "6. Solicite ao usuário um texto e exiba em ordem invertida"
   ]
  },
  {
   "cell_type": "code",
   "execution_count": 10,
   "metadata": {},
   "outputs": [
    {
     "name": "stdout",
     "output_type": "stream",
     "text": [
      "Digite algo: Referencia\n",
      "aicnerefeR\n"
     ]
    }
   ],
   "source": [
    "texto = input(\"Digite algo: \")\n",
    "print(texto[::-1])"
   ]
  },
  {
   "cell_type": "markdown",
   "metadata": {},
   "source": [
    "7. Solicite ao usuário números e os armazene em um vetor de N posições. Crie uma função que imprima o vetor preenchido."
   ]
  },
  {
   "cell_type": "code",
   "execution_count": 11,
   "metadata": {},
   "outputs": [
    {
     "name": "stdout",
     "output_type": "stream",
     "text": [
      "Informe o tamanho do vetor5\n",
      "Digite um valor: 1\n",
      "Digite um valor: 2\n",
      "Digite um valor: 3\n",
      "Digite um valor: 4\n",
      "Digite um valor: 5\n",
      "[1, 2, 3, 4, 5]\n"
     ]
    }
   ],
   "source": [
    "tam = int(input(\"Informe o tamanho do vetor\"))\n",
    "\n",
    "vet = [0] * tam\n",
    "\n",
    "for i in range(0,tam):\n",
    "    vet[i] = int(input(\"Digite um valor: \"))\n",
    "\n",
    "print(vet)"
   ]
  },
  {
   "cell_type": "code",
   "execution_count": 12,
   "metadata": {},
   "outputs": [
    {
     "name": "stdout",
     "output_type": "stream",
     "text": [
      "Informe o tamanho do vetor: 4\n",
      "Digite um valor: 1\n",
      "Digite um valor: 2\n",
      "Digite um valor: 3\n",
      "Digite um valor: 4\n",
      "10\n"
     ]
    }
   ],
   "source": [
    "def altera(v,tam):\n",
    "    global soma \n",
    "    soma = 0\n",
    "    for i in range(0, tam): \n",
    "        soma = soma + v[i]\n",
    "    return soma\n",
    "\n",
    "\n",
    "tam = int(input(\"Informe o tamanho do vetor: \"))\n",
    "\n",
    "v = [0] * tam\n",
    "\n",
    "for i in range(0,tam):\n",
    "    v[i] = int(input(\"Digite um valor: \"))\n",
    "altera(v,tam)\n",
    "print(soma)"
   ]
  },
  {
   "cell_type": "markdown",
   "metadata": {},
   "source": [
    "### Lista de Exercício para ENTREGA\n",
    "### Atividade 06\n",
    "### DATA DE ENTREGA: 07/10/2020, até às 23h59min\n",
    "\n",
    "#### Exercícios 8, 9 e 10 são para entrega!\n",
    "\n",
    "Entrega individual!\n",
    "\n",
    "Endereço: http://bit.ly/IPE_Atividade06_01-10-2020\n",
    "\n"
   ]
  },
  {
   "cell_type": "markdown",
   "metadata": {},
   "source": [
    "8. Elabore um programa que entre com uma frase e uma letra para contar, em seguida calcule e mostre quantas vezes a letra aparece na frase"
   ]
  },
  {
   "cell_type": "code",
   "execution_count": 29,
   "metadata": {},
   "outputs": [
    {
     "name": "stdout",
     "output_type": "stream",
     "text": [
      "Digite uma frase: Barões da pisadinha é a melhor banda atual\n",
      "Que letra deseja decobrir quantas vezes se repete? a\n",
      "\n",
      "A letra ' a ' se repete  9  vezes!\n"
     ]
    }
   ],
   "source": [
    "frase = input(\"Digite uma frase: \")\n",
    "letra = input(\"Que letra deseja decobrir quantas vezes se repete? \")\n",
    "vezes = 0\n",
    "\n",
    "for x in frase:\n",
    "    if x == letra:\n",
    "        vezes = vezes + 1\n",
    "print(\"\")\n",
    "print(\"A letra '\",letra,\"' se repete \",vezes,\" vezes!\")"
   ]
  },
  {
   "cell_type": "markdown",
   "metadata": {},
   "source": [
    "9.\tElabore um programa para entrar com uma frase ou palavra e uma letra, em seguida verifique se a frase ou palavra tem a letra informada. Obs: Não utilize estrutura de repetição."
   ]
  },
  {
   "cell_type": "code",
   "execution_count": 13,
   "metadata": {},
   "outputs": [
    {
     "name": "stdout",
     "output_type": "stream",
     "text": [
      "Digite uma frase: A desmoralização é o conforto dos idiotas\n",
      "Que letra deseja decobrir se a frase possui? i\n",
      "A frase possui a letra ' i '\n"
     ]
    }
   ],
   "source": [
    "frase = input(\"Digite uma frase: \")\n",
    "letra = input(\"Que letra deseja decobrir se a frase possui? \")\n",
    "\n",
    "if frase.count(letra) >= 1:\n",
    "    print(\"A frase possui a letra '\", letra,\"'\")\n",
    "else:\n",
    "    print(\"A frase não possui a letra '\", letra,\"'\")"
   ]
  },
  {
   "cell_type": "markdown",
   "metadata": {},
   "source": [
    "10. Solicite ao usuário números e os armazene em um vetor de N posições. Crie uma função que recebe o vetor preenchido e substitua todas as ocorrências de valores negativos por zero, ao final exiba os valores desse vetor."
   ]
  },
  {
   "cell_type": "code",
   "execution_count": 19,
   "metadata": {},
   "outputs": [
    {
     "name": "stdout",
     "output_type": "stream",
     "text": [
      "Informe o tamanho do vetor: 5\n",
      "Digite um valor: 5\n",
      "Digite um valor: 8\n",
      "Digite um valor: -2\n",
      "Digite um valor: 6\n",
      "Digite um valor: -10\n"
     ]
    },
    {
     "data": {
      "text/plain": [
       "[5, 8, 0, 6, 0]"
      ]
     },
     "execution_count": 19,
     "metadata": {},
     "output_type": "execute_result"
    }
   ],
   "source": [
    "def altera(vetor):\n",
    "    for i in range(tam):\n",
    "        if vetor[i] < 0:\n",
    "            vetor[i] = 0\n",
    "    return vetor\n",
    "\n",
    "tam = int(input(\"Informe o tamanho do vetor: \"))\n",
    "\n",
    "v = [0]*tam\n",
    "for i in range(tam):  \n",
    "    v[i] = int(input(\"Digite um valor: \"))\n",
    "altera(v)"
   ]
  },
  {
   "cell_type": "markdown",
   "metadata": {},
   "source": [
    "##### Faça o download do seu arquivo IPYNB, e envie no link abaixo. \n",
    "\n",
    "Endereço: http://bit.ly/IPE_Atividade06_01-10-2020\n",
    "\n",
    "Entrega até 07/10/2020, até as 23h59min\n",
    "\n",
    "Faça o download do seu arquivo IPYNB, e envie no link acima. \n",
    "\n",
    "Salve com o seguinte padrão NOMECOMPLETO_RA e envie no link acima.\n"
   ]
  },
  {
   "cell_type": "code",
   "execution_count": null,
   "metadata": {},
   "outputs": [],
   "source": [
    "Bruno Sousa Santos de Oliveira N559594"
   ]
  }
 ],
 "metadata": {
  "kernelspec": {
   "display_name": "Python 3",
   "language": "python",
   "name": "python3"
  },
  "language_info": {
   "codemirror_mode": {
    "name": "ipython",
    "version": 3
   },
   "file_extension": ".py",
   "mimetype": "text/x-python",
   "name": "python",
   "nbconvert_exporter": "python",
   "pygments_lexer": "ipython3",
   "version": "3.8.3"
  }
 },
 "nbformat": 4,
 "nbformat_minor": 4
}
