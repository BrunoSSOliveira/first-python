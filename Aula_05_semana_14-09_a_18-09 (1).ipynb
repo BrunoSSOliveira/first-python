{
 "cells": [
  {
   "cell_type": "markdown",
   "metadata": {},
   "source": [
    "# Lista de Exercício para serem resolvidos em AULA\n",
    "##     Atividade 04 – 17/09/2020\n"
   ]
  },
  {
   "cell_type": "markdown",
   "metadata": {},
   "source": [
    "1.\tO Sr. Manoel Joaquim expandiu seus negócios para além dos negócios de 1,99 e agora possui uma loja de conveniências. Faça um programa que implemente uma caixa registradora rudimentar. O programa deverá receber um número desconhecido de valores referentes aos preços das mercadorias. Um valor zero deve ser informado pelo operador para indicar o final da compra. O programa deve então mostrar o total da compra e perguntar o valor em dinheiro que o cliente forneceu, para então calcular e mostrar o valor do troco. Após esta operação, o programa deverá voltar ao ponto inicial, para registrar a próxima compra. A saída deve ser conforme o exemplo abaixo:\n",
    "\n",
    "    Lojas Tabajara\n",
    "    \n",
    "    Produto 1: R$ 2.20\n",
    "    \n",
    "    Produto 2: R$ 6.80\n",
    "    \n",
    "    Produto 3: R$ 0\n",
    "    \n",
    "    Total: R$ 9.00\n",
    "    \n",
    "    Dinheiro: R$ 20.00\n",
    "    \n",
    "    Troco: R$ 11.00\n",
    "    \n",
    "    ..."
   ]
  },
  {
   "cell_type": "code",
   "execution_count": null,
   "metadata": {},
   "outputs": [],
   "source": []
  },
  {
   "cell_type": "markdown",
   "metadata": {},
   "source": [
    "2. Faça um programa que imprima uma tabuada qualquer: de Y x 1 até Y x 10.\t"
   ]
  },
  {
   "cell_type": "code",
   "execution_count": null,
   "metadata": {},
   "outputs": [],
   "source": []
  },
  {
   "cell_type": "markdown",
   "metadata": {},
   "source": [
    "3. Elabore um programa para ler números e imprimir o triplo de cada número. Em seguida perguntar ao usuário se deseja continuar (S) ou não (N)."
   ]
  },
  {
   "cell_type": "code",
   "execution_count": null,
   "metadata": {},
   "outputs": [],
   "source": []
  },
  {
   "cell_type": "markdown",
   "metadata": {},
   "source": [
    "4.\tFaça um programa que some dois números e questione se deseja continuar a operação. "
   ]
  },
  {
   "cell_type": "code",
   "execution_count": null,
   "metadata": {},
   "outputs": [],
   "source": []
  },
  {
   "cell_type": "markdown",
   "metadata": {},
   "source": [
    "5.\tFaça um programa que peça um numero inteiro positivo e em seguida mostre este numero invertido\n",
    "Exemplo:\n",
    "\n",
    "Entrada: 12345\n",
    "\n",
    "Saída: 54321"
   ]
  },
  {
   "cell_type": "code",
   "execution_count": null,
   "metadata": {},
   "outputs": [],
   "source": []
  },
  {
   "cell_type": "markdown",
   "metadata": {},
   "source": [
    "6. Imprima uma tabela de conversão de polegadas para centímetros, de 1 a 20. Considere que POLEGADA = Centímetro * 2,54. Para encerrar as conversões um negativo deverá ser informado. "
   ]
  },
  {
   "cell_type": "code",
   "execution_count": null,
   "metadata": {},
   "outputs": [],
   "source": []
  },
  {
   "cell_type": "markdown",
   "metadata": {},
   "source": [
    "### Lista de Exercício para ENTREGA\n",
    "### Atividade 04\n",
    "### DATA DE ENTREGA: 23/09/2020, até às 23h59min\n",
    "\n",
    "#### Exercícios 7, 8 e 9 são para entrega!\n",
    "\n",
    "Entrega individual!\n",
    "\n",
    "Endereço: http://bit.ly/IPE_Atividade04_17-09-2020\n",
    "\n"
   ]
  },
  {
   "cell_type": "markdown",
   "metadata": {},
   "source": [
    "7. A série de Fibonacci é formada pela seqüência 1,1,2,3,5,8,13,21,34,55,...  Faça um programa capaz de gerar a série até o n−ésimo termo."
   ]
  },
  {
   "cell_type": "markdown",
   "metadata": {},
   "source": [
    "8.\tElabore um programa que entre com a idade de várias pessoas, calcule e mostre a idade média, mostre o número de indivíduos pesquisados e o indivíduo mais velho e o mais novo."
   ]
  },
  {
   "cell_type": "markdown",
   "metadata": {},
   "source": [
    "9.\tElabore um programa que apresente quatro opções: (1) consulta saldo, (2) saque, (3) depósito e (4) sair. O saldo deve iniciar em R$ 0,00. A cada saque ou depósito o valor do saldo deve ser atualizado."
   ]
  },
  {
   "cell_type": "markdown",
   "metadata": {},
   "source": [
    "Faça o download do seu arquivo IPYNB, e envie no link abaixo. \n",
    "\n",
    "Endereço: http://bit.ly/IPE_Atividade04_17-09-2020\n",
    "\n",
    "Entrega até 23/09/2020\n",
    "\n",
    "Faça o download do seu arquivo IPYNB, e envie no link acima. \n",
    "\n",
    "Salve com o seguinte padrão NOMECOMPLETO_RA e envie no link acima.\n"
   ]
  }
 ],
 "metadata": {
  "kernelspec": {
   "display_name": "Python 3",
   "language": "python",
   "name": "python3"
  },
  "language_info": {
   "codemirror_mode": {
    "name": "ipython",
    "version": 3
   },
   "file_extension": ".py",
   "mimetype": "text/x-python",
   "name": "python",
   "nbconvert_exporter": "python",
   "pygments_lexer": "ipython3",
   "version": "3.8.3"
  }
 },
 "nbformat": 4,
 "nbformat_minor": 4
}
