{
 "cells": [
  {
   "cell_type": "markdown",
   "metadata": {},
   "source": [
    "<b> ATIVIDADE PRÁTICA IPE<b>"
   ]
  },
  {
   "cell_type": "markdown",
   "metadata": {},
   "source": [
    "Exercício 01:\n",
    "Desenvolva um programa que imprima em tela o seu nome complero e o seu RA"
   ]
  },
  {
   "cell_type": "markdown",
   "metadata": {},
   "source": [
    "Nome:\n",
    "Ra:"
   ]
  },
  {
   "cell_type": "code",
   "execution_count": 4,
   "metadata": {},
   "outputs": [
    {
     "name": "stdout",
     "output_type": "stream",
     "text": [
      "insira nome completo: Bruno Sousa\n",
      "insira seu RA: n55959\n",
      "Bruno Sousa n55959\n"
     ]
    }
   ],
   "source": [
    "nome = input(\"insira nome completo: \")\n",
    "RA = input(\"insira seu RA: \")\n",
    "\n",
    "print (nome, RA)"
   ]
  },
  {
   "cell_type": "markdown",
   "metadata": {},
   "source": [
    "Exercício 02 \n",
    "Resolva as expressões matemáticas manualmente no caderno, após, converta as seguintes expressões\n",
    "matemáticas para que possam ser calculadas usando o interpretador Python (confirmando o resultado\n",
    "encontrado manualmente).\n",
    "\n",
    "a) 10 + 20 x 30\n",
    "b) 4ˆ2 ÷ 30ˆ\n",
    "c) (9ˆ4 + 2 ) x 6 – 1"
   ]
  },
  {
   "cell_type": "code",
   "execution_count": 9,
   "metadata": {},
   "outputs": [
    {
     "name": "stdout",
     "output_type": "stream",
     "text": [
      "610\n"
     ]
    }
   ],
   "source": [
    "\n",
    "print(10 + 20 * 30)\n"
   ]
  },
  {
   "cell_type": "code",
   "execution_count": 13,
   "metadata": {},
   "outputs": [
    {
     "name": "stdout",
     "output_type": "stream",
     "text": [
      "0.5333333333333333\n"
     ]
    }
   ],
   "source": [
    "\n",
    "print(4*4/30)\n"
   ]
  },
  {
   "cell_type": "code",
   "execution_count": 16,
   "metadata": {},
   "outputs": [
    {
     "name": "stdout",
     "output_type": "stream",
     "text": [
      "32815\n"
     ]
    }
   ],
   "source": [
    "\n",
    "print(((9**4)+2)*(6-1))\n"
   ]
  },
  {
   "cell_type": "markdown",
   "metadata": {},
   "source": [
    "Exercício 03 \n",
    "Resolva as expressões matemáticas manualmente no caderno, após, digite a seguinte expressão no\n",
    "interpretador e confirme o resultado (Observe como a prioridade das operações é importante):\n",
    "\n",
    "10 % 3 * 10 ** 2 + 1 – 10 * 4 / 2"
   ]
  },
  {
   "cell_type": "code",
   "execution_count": 21,
   "metadata": {},
   "outputs": [
    {
     "name": "stdout",
     "output_type": "stream",
     "text": [
      "81.0\n"
     ]
    }
   ],
   "source": [
    "\n",
    "print(10 % 3 * 10 ** 2 + 1 - 10 * 4 / 2)\n",
    "\n",
    "\n",
    "\n",
    "\n"
   ]
  },
  {
   "cell_type": "markdown",
   "metadata": {},
   "source": [
    "Exercíco 04 \n",
    "Escreva um programa que exiba o resultado de 2a x 3b, em que a vale 3 e b vale 5."
   ]
  },
  {
   "cell_type": "code",
   "execution_count": 25,
   "metadata": {},
   "outputs": [
    {
     "name": "stdout",
     "output_type": "stream",
     "text": [
      "90\n"
     ]
    }
   ],
   "source": [
    "a = 3\n",
    "b = 5\n",
    "print((2*a)*(3*b))\n"
   ]
  },
  {
   "cell_type": "markdown",
   "metadata": {},
   "source": [
    "Exercício 05 \n",
    "Escreva um programa que calcule a soma de três variáveis e imprima o resultado na tela."
   ]
  },
  {
   "cell_type": "code",
   "execution_count": 35,
   "metadata": {},
   "outputs": [
    {
     "name": "stdout",
     "output_type": "stream",
     "text": [
      "Digite o primeiro valor: 2\n",
      "Digite o segundo valor: 2\n",
      "Digite o terceiro valor: 2\n",
      "A soma dos valores é:  6\n"
     ]
    }
   ],
   "source": [
    "a = int(input(\"Digite o primeiro valor: \"))\n",
    "b = int(input(\"Digite o segundo valor: \"))\n",
    "c = int(input(\"Digite o terceiro valor: \"))\n",
    "\n",
    "d = a + b + c\n",
    "\n",
    "print(\"A soma dos valores é: \", d)\n",
    "\n"
   ]
  },
  {
   "cell_type": "markdown",
   "metadata": {},
   "source": [
    "Exercício 06 \n",
    "Escreva o programa que receba o valor do salário, do aumento (%) e calcule o valor do novo salário.\n",
    "Considere o salário de R$ 750,00 e o aumento de 15%."
   ]
  },
  {
   "cell_type": "code",
   "execution_count": 39,
   "metadata": {},
   "outputs": [
    {
     "name": "stdout",
     "output_type": "stream",
     "text": [
      "750\n",
      "15\n",
      "862.5\n"
     ]
    }
   ],
   "source": [
    "salario = int(input(\"Digite o valor do salário: \"))\n",
    "aumento = int(input(\"Digite o valor da porcentagem do aumento\"))\n",
    "\n",
    "new_Sal = salario * aumento / 100\n",
    "new_Sal = salario + new_Sal\n",
    "\n",
    "print(new_Sal)\n"
   ]
  },
  {
   "cell_type": "code",
   "execution_count": null,
   "metadata": {},
   "outputs": [],
   "source": []
  },
  {
   "cell_type": "code",
   "execution_count": null,
   "metadata": {},
   "outputs": [],
   "source": []
  },
  {
   "cell_type": "code",
   "execution_count": null,
   "metadata": {},
   "outputs": [],
   "source": []
  }
 ],
 "metadata": {
  "kernelspec": {
   "display_name": "Python 3",
   "language": "python",
   "name": "python3"
  },
  "language_info": {
   "codemirror_mode": {
    "name": "ipython",
    "version": 3
   },
   "file_extension": ".py",
   "mimetype": "text/x-python",
   "name": "python",
   "nbconvert_exporter": "python",
   "pygments_lexer": "ipython3",
   "version": "3.8.3"
  }
 },
 "nbformat": 4,
 "nbformat_minor": 4
}
