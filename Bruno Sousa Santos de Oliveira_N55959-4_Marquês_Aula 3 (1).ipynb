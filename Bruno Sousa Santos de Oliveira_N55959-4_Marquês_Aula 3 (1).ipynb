{
 "cells": [
  {
   "cell_type": "markdown",
   "metadata": {},
   "source": [
    "# SEMANA 31/08 À 04/09\n",
    "\n",
    "Exercícios"
   ]
  },
  {
   "cell_type": "markdown",
   "metadata": {},
   "source": [
    "1 - Elaborar um programa que receba três números, calcule e mostre a multiplicação desses números."
   ]
  },
  {
   "cell_type": "code",
   "execution_count": 1,
   "metadata": {
    "scrolled": false
   },
   "outputs": [
    {
     "name": "stdout",
     "output_type": "stream",
     "text": [
      "Digite o primeiro valor: 1\n",
      "Digite o segundo valor: 2\n",
      "Digite o terceiro valor: 3\n",
      "A multiplicação dos três valores é 6\n"
     ]
    }
   ],
   "source": [
    "a = float(input(\"Digite o primeiro numero: \"))\n",
    "b = float(input(\"Digite o segundo numero: \"))\n",
    "c = float(input(\"Digite o terceiro numero: \"))\n",
    "\n",
    "d = a*b*c\n",
    "\n",
    "print(\"A multiplicação dos três valores é\", d)"
   ]
  },
  {
   "cell_type": "markdown",
   "metadata": {},
   "source": [
    "2 - Faça um programa que receba o preço de um produto, calcule e mostre o novo preço, sabendo-se que este sofreu um desconto de 10%."
   ]
  },
  {
   "cell_type": "code",
   "execution_count": 13,
   "metadata": {},
   "outputs": [
    {
     "name": "stdout",
     "output_type": "stream",
     "text": [
      "digite o valor do produto: 27\n",
      "o valor do produto com desconte é:  24.3\n"
     ]
    }
   ],
   "source": [
    "preco = float(input(\"digite o valor do produto: \"))\n",
    "desc = preco * 10 / 100\n",
    "preco = preco - desc\n",
    "\n",
    "print(\"o valor do produto com desconte é: \", preco)"
   ]
  },
  {
   "cell_type": "markdown",
   "metadata": {},
   "source": [
    "3 - Escreva um programa que pede ao usuário para entrar com uma temperatura em graus Celsius, converter a temperatura para Fahrenheit e imprimir a temperatura convertida. Fórmula: (Celcius * 9/5) + 32."
   ]
  },
  {
   "cell_type": "code",
   "execution_count": 14,
   "metadata": {},
   "outputs": [
    {
     "name": "stdout",
     "output_type": "stream",
     "text": [
      "Digite a temperatura: 32\n",
      "A temperatura convertida de Celsius para Fahrenheit é de:  89.6\n"
     ]
    }
   ],
   "source": [
    "Celsius = float(input(\"Digite a temperatura: \"))\n",
    "Fahrenheit = (Celsius * 9/5) + 32\n",
    "print(\"A temperatura convertida de Celsius para Fahrenheit é de: \", Fahrenheit)"
   ]
  },
  {
   "cell_type": "markdown",
   "metadata": {},
   "source": [
    "4 - Elabore um programa que simule uma agenda, solicite ao usuário que entre com o nome, endereço e telefone depois exiba os dados na tela."
   ]
  },
  {
   "cell_type": "code",
   "execution_count": 20,
   "metadata": {},
   "outputs": [
    {
     "name": "stdout",
     "output_type": "stream",
     "text": [
      "Digite seu nome: Bruno Sousa\n",
      "Digite seu endereço: Rua Analatorre\n",
      "Digite seu telefone: 98858\n",
      "Nome:  Bruno Sousa\n",
      "Endereço:  Rua Analatorre\n",
      "Telefone:  98858\n"
     ]
    }
   ],
   "source": [
    "nome = input(\"Digite seu nome: \")\n",
    "endereco = input(\"Digite seu endereço: \")\n",
    "tel = input(\"Digite seu telefone: \")\n",
    "print(\"Nome: \", nome)\n",
    "print(\"Endereço: \", endereco)\n",
    "print(\"Telefone: \", tel)"
   ]
  },
  {
   "cell_type": "markdown",
   "metadata": {},
   "source": [
    "## EXERCICIOS DE VALIDAÇÃO DA ATIVIDADE:"
   ]
  },
  {
   "cell_type": "markdown",
   "metadata": {},
   "source": [
    "AV1 - Tendo como dado de entrada a altura (h) de uma pessoa, construa um algoritmo que calcule seu peso ideal, utilizando as seguintes fórmulas:\n",
    "Para homens: (72.7*h) - 58\n",
    "Para mulheres: (62.1*h) - 44.7"
   ]
  },
  {
   "cell_type": "code",
   "execution_count": 18,
   "metadata": {},
   "outputs": [
    {
     "name": "stdout",
     "output_type": "stream",
     "text": [
      "Insira a altura da pessoa - ex:'1.75': 1.72\n",
      "Masculino = M | Feminino = F: m\n",
      "Seu peso ideal seria:  67.044\n"
     ]
    }
   ],
   "source": [
    "h = float(input(\"Insira a altura da pessoa - ex:'1.75': \"))\n",
    "sex = input(\"Masculino = M | Feminino = F: \")\n",
    "\n",
    "if sex == \"M\":\n",
    "    peso = 72.7 * h - 58\n",
    "    print(\"Seu peso ideal seria: \", peso)\n",
    "elif sex == \"m\":\n",
    "    peso = 72.7 * h - 58\n",
    "    print(\"Seu peso ideal seria: \", peso)\n",
    "elif sex == \"F\":\n",
    "    peso = 62.1 * h - 44.7\n",
    "    print(\"Seu peso ideal seria: \", peso)\n",
    "elif sex == \"f\":\n",
    "    peso = 62.1 * h - 44.7\n",
    "    print(\"Seu peso ideal seria: \", peso)\n",
    "else:\n",
    "    print(\"Algo deu errado, tente de novo\")"
   ]
  },
  {
   "cell_type": "markdown",
   "metadata": {},
   "source": [
    "AV2 - Faça um Programa que pergunte quanto você ganha por hora e o número de horas trabalhadas no mês. Calcule e mostre o total do seu salário no referido mês."
   ]
  },
  {
   "cell_type": "code",
   "execution_count": 19,
   "metadata": {},
   "outputs": [
    {
     "name": "stdout",
     "output_type": "stream",
     "text": [
      "Quanto você ganha por hora: 33\n",
      "Quantas foram as horas trabalhadas: 700\n",
      "Total do salário ganho no mês é:  23100.0\n"
     ]
    }
   ],
   "source": [
    "ganho = float(input(\"Quanto você ganha por hora: \"))\n",
    "horasTrab = float(input(\"Quantas foram as horas trabalhadas: \"))\n",
    "\n",
    "sal_Mes = ganho * horasTrab\n",
    "\n",
    "print(\"Total do salário ganho no mês é: \", sal_Mes)\n"
   ]
  },
  {
   "cell_type": "markdown",
   "metadata": {},
   "source": [
    "AV3 - Faça um Programa que pergunte quanto você ganha por hora e o número de horas trabalhadas no mês.\n",
    "(Utilize parte do código anterior) \n",
    "Calcule e mostre o total do seu salário no referido mês, sabendo-se que são descontados 11% para o Imposto de Renda,\n",
    "8% para o INSS e 5% para o sindicato, faça um programa que nos dê:\n",
    "salário bruto.\n",
    "quanto pagou ao INSS.\n",
    "quanto pagou ao sindicato.\n",
    "o salário líquido.\n",
    "calcule os descontos e o salário líquido, conforme a tabela abaixo:\n",
    "    \n",
    "    + Salário Bruto : R$\n",
    "    - IR (11%) : R$\n",
    "    - INSS (8%) : R$\n",
    "    - Sindicato ( 5%) : R$\n",
    "    = Salário Liquido : R$                Obs.: Salário Bruto - Descontos = Salário Líquido."
   ]
  },
  {
   "cell_type": "code",
   "execution_count": 24,
   "metadata": {},
   "outputs": [
    {
     "name": "stdout",
     "output_type": "stream",
     "text": [
      "Quanto você ganha por hora: 12\n",
      "Quantas foram as horas trabalhadas: 199\n",
      "\n",
      "Total do salário ganho no mês é:  2388.0\n",
      "\n",
      "\n",
      "+ Salário Bruto: R$ 2388.0\n",
      "- Imposto de Renda '11%': R$ 262.68\n",
      "- INSS '8%': R$ 191.04\n",
      "- Sindicato '5%': R$ 119.4\n",
      "\n",
      "= Salário Líquido: R$ 1814.88\n"
     ]
    }
   ],
   "source": [
    "ganho = float(input(\"Quanto você ganha por hora: \"))\n",
    "horasTrab = float(input(\"Quantas foram as horas trabalhadas: \"))\n",
    "\n",
    "sal_Mes = ganho * horasTrab\n",
    "\n",
    "print(\"\")\n",
    "print(\"Total do salário ganho no mês é: \", sal_Mes)\n",
    "\n",
    "print(\"\")\n",
    "iR = sal_Mes * 11 / 100\n",
    "INSS = sal_Mes * 8 / 100\n",
    "sind = sal_Mes * 5 / 100\n",
    "sal_liq = ((sal_Mes - iR) - INSS) - sind\n",
    "\n",
    "print(\"\")\n",
    "print(\"+ Salário Bruto: R$\", sal_Mes)\n",
    "print(\"- Imposto de Renda '11%': R$\", iR)\n",
    "print(\"- INSS '8%': R$\", INSS)\n",
    "print(\"- Sindicato '5%': R$\", sind)\n",
    "print(\"\")\n",
    "print(\"= Salário Líquido: R$\", sal_liq)\n",
    "\n",
    "\n"
   ]
  },
  {
   "cell_type": "markdown",
   "metadata": {},
   "source": [
    "link para upload da atividade: http://bit.ly/IPE_atividade02_03-09-2020\n",
    "\n",
    "Envio até 04/09/2020"
   ]
  }
 ],
 "metadata": {
  "kernelspec": {
   "display_name": "Python 3",
   "language": "python",
   "name": "python3"
  },
  "language_info": {
   "codemirror_mode": {
    "name": "ipython",
    "version": 3
   },
   "file_extension": ".py",
   "mimetype": "text/x-python",
   "name": "python",
   "nbconvert_exporter": "python",
   "pygments_lexer": "ipython3",
   "version": "3.8.3"
  }
 },
 "nbformat": 4,
 "nbformat_minor": 4
}
