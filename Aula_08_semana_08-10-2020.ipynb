{
 "cells": [
  {
   "cell_type": "markdown",
   "metadata": {},
   "source": [
    "# Lista de Exercício para serem resolvidos em AULA\n",
    "##     Atividade 08 - 08/10/2020"
   ]
  },
  {
   "cell_type": "markdown",
   "metadata": {},
   "source": [
    "1.\tSolicite ao usuário números e os armazene em um vetor de N posições. Crie uma função que recebe o vetor preenchido e substitua todas as ocorrências de valores negativos por zero, ao final exiba os valores desse vetor."
   ]
  },
  {
   "cell_type": "code",
   "execution_count": 1,
   "metadata": {},
   "outputs": [
    {
     "name": "stdout",
     "output_type": "stream",
     "text": [
      "Informe o tamanho do vetor: 5\n",
      "Digite um valor: -7\n",
      "Digite um valor: 5\n",
      "Digite um valor: 6\n",
      "Digite um valor: -2\n",
      "Digite um valor: 5\n"
     ]
    },
    {
     "data": {
      "text/plain": [
       "[0, 5, 6, 0, 5]"
      ]
     },
     "execution_count": 1,
     "metadata": {},
     "output_type": "execute_result"
    }
   ],
   "source": [
    "def altera(vetor):\n",
    "    for i in range(tam):\n",
    "        if vetor[i] < 0:\n",
    "            vetor[i] = 0\n",
    "    return vetor\n",
    "\n",
    "tam = int(input(\"Informe o tamanho do vetor: \"))\n",
    "\n",
    "v = [0]*tam\n",
    "for i in range(tam):  \n",
    "    v[i] = int(input(\"Digite um valor: \"))\n",
    "altera(v)"
   ]
  },
  {
   "cell_type": "markdown",
   "metadata": {},
   "source": [
    "2.\tFaça um programa em Python que receba uma lista e exiba os elementos da última metade caso a quantidade de elementos seja par. Se a quantidade for ímpar, exiba a primeira metade, inclusive o valor do meio."
   ]
  },
  {
   "cell_type": "code",
   "execution_count": 9,
   "metadata": {},
   "outputs": [
    {
     "name": "stdout",
     "output_type": "stream",
     "text": [
      "Digite a quantidade de elementos da lista: 4\n",
      "Digite um número:4\n",
      "Digite um número:2\n",
      "Digite um número:6\n",
      "Digite um número:8\n",
      "------PAR------\n",
      "6\n",
      "8\n"
     ]
    }
   ],
   "source": [
    "tam = int(input('Digite a quantidade de elementos da lista: '))\n",
    "\n",
    "lista = [0] * tam\n",
    "\n",
    "for i in range(0, tam):\n",
    "    lista[i] = int(input('Digite um número:'))\n",
    "\n",
    "metade = tam/2 \n",
    "\n",
    "if tam % 2 == 0:\n",
    "    print('------PAR------')\n",
    "    for i in range(round(metade), tam):\n",
    "        print(lista[i])\n",
    "else:\n",
    "    print('------IMPAR------')\n",
    "    for i in range(0, round(metade)):\n",
    "        print(lista[i])\n"
   ]
  },
  {
   "cell_type": "code",
   "execution_count": null,
   "metadata": {},
   "outputs": [],
   "source": []
  },
  {
   "cell_type": "markdown",
   "metadata": {},
   "source": [
    "3. Faça um programa que leia duas matrizes A e B 2x2 de inteiros e imprima a matriz C que é a soma das matrizes A e B"
   ]
  },
  {
   "cell_type": "code",
   "execution_count": null,
   "metadata": {},
   "outputs": [],
   "source": []
  },
  {
   "cell_type": "markdown",
   "metadata": {},
   "source": [
    "4.\tEscreva um programa em Python que leia duas matrizes A e B de tamanho 3 x 3 e calcule C = A×B. Ao final, o programa deverá imprimir a matriz antes e depois da multiplicação"
   ]
  },
  {
   "cell_type": "code",
   "execution_count": null,
   "metadata": {},
   "outputs": [],
   "source": []
  },
  {
   "cell_type": "markdown",
   "metadata": {},
   "source": [
    "5.\tFaça um programa em Python que solicite ao usuário números e os armazene em uma matriz 3×3. Em seguida, crie um vetor que armazene os elementos da diagonal principal da matriz"
   ]
  },
  {
   "cell_type": "code",
   "execution_count": null,
   "metadata": {},
   "outputs": [],
   "source": []
  },
  {
   "cell_type": "markdown",
   "metadata": {},
   "source": [
    "### Lista de Exercício para ENTREGA\n",
    "### Atividade 07\n",
    "### DATA DE ENTREGA: 14/10/2020, até às 23h59min\n",
    "\n",
    "#### Exercícios 6 e 7 são para entrega!\n",
    "\n",
    "Entrega individual!\n",
    "\n",
    "Endereço: https://tinyurl.com/y4zqh95p\n",
    "\n"
   ]
  },
  {
   "cell_type": "markdown",
   "metadata": {},
   "source": [
    "6.\tEscreva um programa em Python para imprimir uma matriz de tamanho 10 x 10, onde seus elementos são da forma abaixo:\n",
    "\n",
    "     * A[i][j] = 2 ∗ i + 7 ∗ j, se i < j;\n",
    "\n",
    "     * A[i][j] = 3 ∗ i<sup>2</sup> + 7 ∗ j, se i = j;\n",
    "\n",
    "     * A[i][j] = 4 ∗ i3 + 5 ∗ j2, se i > j;\n"
   ]
  },
  {
   "cell_type": "code",
   "execution_count": null,
   "metadata": {},
   "outputs": [],
   "source": []
  },
  {
   "cell_type": "markdown",
   "metadata": {},
   "source": [
    "7.\tUtilizando listas faça um programa que faça 5 perguntas para uma pessoa sobre um crime. As perguntas são:\n",
    "\n",
    "     * \"Telefonou para a vítima?\"\n",
    "     * \"Esteve no local do crime?\"\n",
    "     * \"Mora perto da vítima?\"\n",
    "     * \"Tinha dívidas com a vítima?\"\n",
    "     * \"Já trabalhou com a vítima?“\n",
    "\n",
    "O programa deve no final emitir uma classificação sobre a participação da pessoa no crime.  Se a pessoa responder positivamente a:\n",
    "\n",
    "     * Duas questões ela deve ser classificada como: \"Suspeita“; \n",
    "     * Três e Quatro como \"Cúmplice\" e; \n",
    "     * Cinco como \"Assassino\". Caso contrário, ele será classificado como \"Inocente\".\n"
   ]
  },
  {
   "cell_type": "code",
   "execution_count": null,
   "metadata": {},
   "outputs": [],
   "source": []
  },
  {
   "cell_type": "markdown",
   "metadata": {},
   "source": [
    "##### Faça o download do seu arquivo IPYNB, e envie no link abaixo. \n",
    "\n",
    "Endereço: https://tinyurl.com/y4zqh95p\n",
    "\n",
    "Entrega até 14/10/2020, até as 23h59min\n",
    "\n",
    "Faça o download do seu arquivo IPYNB, e envie no link acima. \n",
    "\n",
    "Salve com o seguinte padrão NOMECOMPLETO_RA e envie no link acima.\n"
   ]
  }
 ],
 "metadata": {
  "kernelspec": {
   "display_name": "Python 3",
   "language": "python",
   "name": "python3"
  },
  "language_info": {
   "codemirror_mode": {
    "name": "ipython",
    "version": 3
   },
   "file_extension": ".py",
   "mimetype": "text/x-python",
   "name": "python",
   "nbconvert_exporter": "python",
   "pygments_lexer": "ipython3",
   "version": "3.8.3"
  }
 },
 "nbformat": 4,
 "nbformat_minor": 4
}
